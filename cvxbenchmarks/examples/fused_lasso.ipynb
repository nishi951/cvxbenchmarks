{
 "cells": [
  {
   "cell_type": "markdown",
   "metadata": {},
   "source": [
    "### Fused lasso\n",
    "\n",
    "The fused lasso (Tibshirani, R. and Saunders, M, 2005, \"Sparsity and Smoothness via the fused lasso\") is an extension to the usual Lasso method that also takes the total variation between adjacent parameters into account. Whereas the usual lasso can be written as (with variable $x$):\n",
    "\n",
    "\\begin{equation*}\n",
    "  \\begin{aligned}\n",
    "    &\\text{minimize} && \\|Ax -b \\|_2^2 + \\lambda \\|x\\|_1 \\\\\n",
    "  \\end{aligned}\n",
    "\\end{equation*}\n",
    "\n",
    "Where $A \\in \\mathbb{R}^{m \\times n}$.\n",
    "\n",
    "If the parameters $x$ have some logical or natural ordering to them, then the fused lasso also encourages sparsity in the first difference of $x$:\n",
    "\n",
    "\\begin{equation*}\n",
    "  \\begin{aligned}\n",
    "    &\\text{minimize} && \\|Ax -b \\|_2^2 + \\lambda_1 \\|x\\|_1 + \\lambda_2 \\sum_{i = 1}^{n-1}\\left|x_{i+1} - x_i\\right|\\\\\n",
    "  \\end{aligned}\n",
    "\\end{equation*}"
   ]
  },
  {
   "cell_type": "code",
   "execution_count": null,
   "metadata": {
    "collapsed": true
   },
   "outputs": [],
   "source": [
    "m = 1000\n",
    "ni = 10\n",
    "k = 1000\n",
    "rho=0.05\n",
    "sigma=0.05\n",
    "np.random.seed(0)\n",
    "\n",
    "A = np.random.randn(m, ni*k)\n",
    "A /= np.sqrt(np.sum(A**2, 0))\n",
    "\n",
    "x0 = np.zeros(ni*k)\n",
    "for i in range(k):\n",
    "    if np.random.rand() < rho:\n",
    "        x0[i*ni:(i+1)*ni] = np.random.rand()\n",
    "b = A.dot(x0) + sigma*np.random.randn(m)\n",
    "\n",
    "lam = 0.1*sigma*np.sqrt(m*np.log(ni*k))\n",
    "x = cp.Variable(A.shape[1])\n",
    "f = cp.sum_squares(A*x - b) + lam*cp.norm1(x) + lam*cp.tv(x)\n",
    "prob = cp.Problem(cp.Minimize(f))"
   ]
  }
 ],
 "metadata": {
  "kernelspec": {
   "display_name": "Python 2",
   "language": "python",
   "name": "python2"
  },
  "language_info": {
   "codemirror_mode": {
    "name": "ipython",
    "version": 2
   },
   "file_extension": ".py",
   "mimetype": "text/x-python",
   "name": "python",
   "nbconvert_exporter": "python",
   "pygments_lexer": "ipython2",
   "version": "2.7.12"
  }
 },
 "nbformat": 4,
 "nbformat_minor": 2
}
