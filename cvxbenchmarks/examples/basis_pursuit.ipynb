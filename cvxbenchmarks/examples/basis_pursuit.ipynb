{
 "cells": [
  {
   "cell_type": "markdown",
   "metadata": {},
   "source": [
    "### Basis Pursuit Problem Generation\n",
    "\n",
    "Basis pursuit is a method for finding a sparse solution to a linear system. The most generic formulation is:\n",
    "\n",
    "\\begin{equation*}\n",
    "  \\begin{aligned}\n",
    "    &\\text{minimize} && \\|x\\|_1 \\\\\n",
    "    &\\text{subject to} && Ax = b\n",
    "  \\end{aligned}\n",
    "\\end{equation*}\n",
    "\n",
    "We generate the problem by first generating a sparse solution $x_0$, a random wide matrix $A$, and then forming $b = Ax_0$ to find the $b$ such that $Ax = b$ is guaranteed to have a sparse solution.\n",
    "\n",
    "Note that the solution is not guaranteed to be $x_0$. For instance, if $A = (1, 0)^T$ and $x_0 = (0, 1)$, then $b = 0$ and therefore the system $Ax = 0$ has the trivial solution $x = (0, 0)$, which clearly minimizes the L1 norm."
   ]
  },
  {
   "cell_type": "code",
   "execution_count": 1,
   "metadata": {},
   "outputs": [
    {
     "name": "stdout",
     "output_type": "stream",
     "text": [
      "('status:', 'optimal_inaccurate')\n",
      "('optimal value:', 24.91891173075553)\n",
      "('true optimal value:', None)\n"
     ]
    }
   ],
   "source": [
    "import cvxpy as cp\n",
    "import numpy as np\n",
    "import scipy as sp\n",
    "\n",
    "# Variable declarations\n",
    "\n",
    "import scipy.sparse as sps\n",
    "n = 500\n",
    "m = 300\n",
    "np.random.seed(0)\n",
    "\n",
    "x = cp.Variable(n)\n",
    "A = np.random.rand(m, n)\n",
    "x0 = sps.rand(n, 1, 0.1)\n",
    "\n",
    "b = A*x0\n",
    "\n",
    "\n",
    "# Problem construction\n",
    "prob = None\n",
    "opt_val = None\n",
    "\n",
    "prob = cp.Problem(cp.Minimize(cp.norm1(x)), [A*x == b])\n",
    "\n",
    "\n",
    "# For debugging individual problems:\n",
    "if __name__ == \"__main__\":\n",
    "    prob.solve()\n",
    "    print(\"status:\", prob.status)\n",
    "    print(\"optimal value:\", prob.value)\n",
    "    print(\"true optimal value:\", opt_val)"
   ]
  },
  {
   "cell_type": "code",
   "execution_count": null,
   "metadata": {
    "collapsed": true
   },
   "outputs": [],
   "source": []
  }
 ],
 "metadata": {
  "kernelspec": {
   "display_name": "Python 2",
   "language": "python",
   "name": "python2"
  },
  "language_info": {
   "codemirror_mode": {
    "name": "ipython",
    "version": 2
   },
   "file_extension": ".py",
   "mimetype": "text/x-python",
   "name": "python",
   "nbconvert_exporter": "python",
   "pygments_lexer": "ipython2",
   "version": "2.7.12"
  }
 },
 "nbformat": 4,
 "nbformat_minor": 2
}
