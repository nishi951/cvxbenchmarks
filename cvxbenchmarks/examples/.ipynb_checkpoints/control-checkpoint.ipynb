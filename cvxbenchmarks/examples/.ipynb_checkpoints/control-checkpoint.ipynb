{
 "cells": [
  {
   "cell_type": "markdown",
   "metadata": {},
   "source": [
    "### Control\n",
    "\n",
    "A linear dynamical system with states $x_i$ and control inputs $u_i$ can be described by the equation:\n",
    "\\begin{equation}\n",
    "x_{t+1} = Ax_t + Bu_t\n",
    "\\end{equation}\n",
    "where $A$ and $B$ are the matrices controlling the (linear) state updates.\n",
    "\n",
    "A generic control problem might try to minimize the overall cost of the inputs, subject to achieving some sort of final state, in a specified amount of time, and some maximum size of input. For example, moving the state from $x_{init}$ to 0 in $T$ time steps:\n",
    "\n",
    "\\begin{equation*}\n",
    "  \\begin{aligned}\n",
    "    &\\text{minimize} && \\sum_{i = 0}^{T-1} \\|u_i\\|_1 \\\\\n",
    "    &\\text{subject to} && x_{i+1} = Ax_i + Bu_i &&& i = 0,..., T-1 \\\\\n",
    "                     &  && x_0 = x_{init} \\\\\n",
    "                     &  && x_T = 0 \n",
    "  \\end{aligned}\n",
    "\\end{equation*}\n",
    "\n",
    "The variables are the states $x_0,..., x_T$ and the inputs $u_0,..., u_{T-1}$. $x_{init}$ is a fixed parameter."
   ]
  },
  {
   "cell_type": "code",
   "execution_count": null,
   "metadata": {
    "collapsed": true
   },
   "outputs": [],
   "source": []
  }
 ],
 "metadata": {
  "kernelspec": {
   "display_name": "Python 2",
   "language": "python",
   "name": "python2"
  },
  "language_info": {
   "codemirror_mode": {
    "name": "ipython",
    "version": 2
   },
   "file_extension": ".py",
   "mimetype": "text/x-python",
   "name": "python",
   "nbconvert_exporter": "python",
   "pygments_lexer": "ipython2",
   "version": "2.7.12"
  }
 },
 "nbformat": 4,
 "nbformat_minor": 2
}
