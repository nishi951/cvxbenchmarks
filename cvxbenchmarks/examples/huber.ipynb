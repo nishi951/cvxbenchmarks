{
 "cells": [
  {
   "cell_type": "markdown",
   "metadata": {},
   "source": [
    "### Huber Regression\n",
    "\n",
    "The Huber loss function is formed by stitching together a linear function and a quadratic function as follows:\n",
    "\n",
    "\\begin{equation}\n",
    "\\text{huber}(x) = \n",
    "\\begin{cases}\n",
    "x^2 & \\left| x \\right| \\leq M \\\\\n",
    "2M\\left|x\\right| - M^2 & \\left| x \\right| > M\n",
    "\\end{cases}\n",
    "\\end{equation}\n",
    "\n",
    "Essentially, the function behaves quadratically near zero, but is extended to grow linearly past some threshold $M$, forming a hybrid of the L1 and L2 penalty functions. It handles outliers more gracefully, but doesn't encourage sparse solutions too strongly."
   ]
  },
  {
   "cell_type": "code",
   "execution_count": 1,
   "metadata": {},
   "outputs": [
    {
     "name": "stdout",
     "output_type": "stream",
     "text": [
      "huber_0\n",
      "\tstatus: optimal\n",
      "\toptimal value: 2183.83267475\n",
      "\ttrue optimal value: None\n"
     ]
    }
   ],
   "source": [
    "import cvxpy as cp\n",
    "import numpy as np\n",
    "import scipy as sp\n",
    "\n",
    "# setup\n",
    "\n",
    "problemID = \"huber_0\"\n",
    "prob = None\n",
    "opt_val = None\n",
    "\n",
    "# Variable declarations\n",
    "\n",
    "import scipy.sparse as sps\n",
    "np.random.seed(0)\n",
    "m = 5000\n",
    "n = 200\n",
    "\n",
    "x0 = np.random.randn(n)\n",
    "A = np.random.randn(m,n)\n",
    "A = A*sps.diags([1 / np.sqrt(np.sum(A**2, 0))], [0])\n",
    "b = A.dot(x0) + np.sqrt(0.01)*np.random.randn(m)\n",
    "b = b + 10*np.asarray(sps.rand(m, 1, 0.05).todense()).ravel()\n",
    "\n",
    "\n",
    "# Problem construction\n",
    "\n",
    "x = cp.Variable(n)\n",
    "prob = cp.Problem(cp.Minimize(cp.sum_entries(cp.huber(A*x - b))))\n",
    "\n",
    "\n",
    "# Problem collection\n",
    "\n",
    "# Single problem collection\n",
    "problemDict = {\n",
    "    \"problemID\" : problemID,\n",
    "    \"problem\"   : prob,\n",
    "    \"opt_val\"   : opt_val\n",
    "}\n",
    "problems = [problemDict]\n",
    "\n",
    "\n",
    "\n",
    "# For debugging individual problems:\n",
    "if __name__ == \"__main__\":\n",
    "    def printResults(problemID = \"\", problem = None, opt_val = None):\n",
    "        print(problemID)\n",
    "        problem.solve()\n",
    "        print(\"\\tstatus: {}\".format(problem.status))\n",
    "        print(\"\\toptimal value: {}\".format(problem.value))\n",
    "        print(\"\\ttrue optimal value: {}\".format(opt_val))\n",
    "    printResults(**problems[0])\n"
   ]
  },
  {
   "cell_type": "code",
   "execution_count": null,
   "metadata": {
    "collapsed": true
   },
   "outputs": [],
   "source": []
  }
 ],
 "metadata": {
  "kernelspec": {
   "display_name": "Python 2",
   "language": "python",
   "name": "python2"
  },
  "language_info": {
   "codemirror_mode": {
    "name": "ipython",
    "version": 2
   },
   "file_extension": ".py",
   "mimetype": "text/x-python",
   "name": "python",
   "nbconvert_exporter": "python",
   "pygments_lexer": "ipython2",
   "version": "2.7.12"
  }
 },
 "nbformat": 4,
 "nbformat_minor": 2
}
