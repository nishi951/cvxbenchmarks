{
 "cells": [
  {
   "cell_type": "markdown",
   "metadata": {},
   "source": [
    "### Total Variation Minimization (1D)\n",
    "\n",
    "Total variation minimization aims to minimize the amount of absolute change in the function. More precisely, it minimizes the $\\ell_1$-norm of the first difference of the input vector $x$, subject to $x$ still being reasonably close to some target vector $b$. In 1 dimension, the first difference $x_{fd}$ of a vector $x$ is:\n",
    "\n",
    "\\begin{equation}\n",
    "x_{fd} = (x_2 - x_1,...,x_n-x_{n-1})\n",
    "\\end{equation}\n",
    "\n",
    "In two dimensions, the first difference of an image would contain two entries for each pixel, one for the first difference in the horizontal direction, and one for the first difference in the vertical direction.\n",
    "\n",
    "This problem finds applications in many areas including signal processing/reconstruction, and (in 2 dimensions) image reconstruction (particularly inpainting).\n",
    "\n",
    "\\begin{equation*}\n",
    "  \\begin{aligned}\n",
    "    &\\text{minimize} && \\frac{1}2 \\| x - b \\|_2^2 + \\lambda \\| x_{2:n} - x_{1:n-1} \\|_1 \\\\\n",
    "  \\end{aligned}\n",
    "\\end{equation*}\n",
    "\n",
    "with variable $x$ and data vector $b$."
   ]
  },
  {
   "cell_type": "code",
   "execution_count": null,
   "metadata": {
    "collapsed": true
   },
   "outputs": [],
   "source": [
    "import cvxpy as cp\n",
    "import numpy as np\n",
    "import scipy as sp\n",
    "\n",
    "# setup\n",
    "\n",
    "problemID = \"tv_1d_0\"\n",
    "prob = None\n",
    "opt_val = None\n",
    "\n",
    "# Variable declarations\n",
    "\n",
    "np.random.seed(0)\n",
    "n = 100000\n",
    "\n",
    "k = max(int(np.sqrt(n)/2), 1)\n",
    "\n",
    "x0 = np.ones((n,1))\n",
    "idxs = np.random.randint(0, n, (k,2))\n",
    "idxs.sort()\n",
    "for a, b in idxs:\n",
    "    x0[a:b] += 10*(np.random.rand()-0.5)\n",
    "b = x0 + np.random.randn(n, 1)\n",
    "\n",
    "lam = np.sqrt(n)\n",
    "x = cp.Variable(n)\n",
    "\n",
    "\n",
    "# Problem construction\n",
    "\n",
    "f = 0.5*cp.sum_squares(x-b) + lam*cp.norm1(x[1:]-x[:-1])\n",
    "prob = cp.Problem(cp.Minimize(f))\n",
    "\n",
    "\n",
    "# Problem collection\n",
    "\n",
    "# Single problem collection\n",
    "problemDict = {\n",
    "    \"problemID\" : problemID,\n",
    "    \"problem\"   : prob,\n",
    "    \"opt_val\"   : opt_val\n",
    "}\n",
    "problems = [problemDict]\n",
    "\n",
    "\n",
    "\n",
    "# For debugging individual problems:\n",
    "if __name__ == \"__main__\":\n",
    "    def printResults(problemID = \"\", problem = None, opt_val = None):\n",
    "        print(problemID)\n",
    "        problem.solve()\n",
    "        print(\"\\tstatus: {}\".format(problem.status))\n",
    "        print(\"\\toptimal value: {}\".format(problem.value))\n",
    "        print(\"\\ttrue optimal value: {}\".format(opt_val))\n",
    "    printResults(**problems[0])\n"
   ]
  }
 ],
 "metadata": {
  "kernelspec": {
   "display_name": "Python 3",
   "language": "python",
   "name": "python3"
  },
  "language_info": {
   "codemirror_mode": {
    "name": "ipython",
    "version": 3
   },
   "file_extension": ".py",
   "mimetype": "text/x-python",
   "name": "python",
   "nbconvert_exporter": "python",
   "pygments_lexer": "ipython3",
   "version": "3.6.1"
  }
 },
 "nbformat": 4,
 "nbformat_minor": 2
}
