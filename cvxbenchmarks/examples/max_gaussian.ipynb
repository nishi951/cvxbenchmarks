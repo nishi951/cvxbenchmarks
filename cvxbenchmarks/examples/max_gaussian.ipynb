{
 "cells": [
  {
   "cell_type": "markdown",
   "metadata": {},
   "source": [
    "### Robust Gaussian Covariance Matrix Estimation\n",
    "\n",
    "Given $m$ observations $a_1,..., a_m$ of a zero-mean random $n$ - vector $A = (A_1, ..., A_n)$, we would like to find the maximum likelihood inverse covariance matrix $\\Sigma^{-1}$. Taking the log-likelihood of the data, we get:\n",
    "\n",
    "\\begin{equation*}\n",
    "  \\begin{aligned}\n",
    "    &\\text{minimize} && - \\log \\det \\Sigma^{-1} + \\sum_{i = 1}^m \\text{tr}(\\Sigma^{-1} a_i a_i^T) \\\\\n",
    "  \\end{aligned}\n",
    "\\end{equation*}\n",
    "\n",
    "We make a slight modification to this problem: instead of taking all of the data, we would like to minimize the sum of the $k$ largest values of \n",
    "\n",
    "\\begin{equation}\n",
    "-\\log \\det \\Sigma^{-1} + \\sum_{i = 1}^m \\text{tr}(\\Sigma^{-1} a_i a_i^T)\n",
    "\\end{equation}\n",
    "\n",
    "This corresponds to selecting the $k$ \"worst-case\" observations $a_i$ and minimizing those. Let $R = \\Sigma^{-1}$. Letting $z$ be the vector such that:\n",
    "\n",
    "\\begin{equation}\n",
    "z_i  = -\\log \\det R + \\text{tr}(R a_i a_i^T)\n",
    "\\end{equation}\n",
    "\n",
    "We get the problem:\n",
    "\n",
    "\\begin{equation*}\n",
    "  \\begin{aligned}\n",
    "    &\\text{minimize} && \\sum_{j = 1}^3 z_{[j]} \\\\\n",
    "  \\end{aligned}\n",
    "\\end{equation*}\n",
    "\n",
    "where $z_{[1]}$ is the largest element of a vector, $z_{[2]}$ is the second largest, and so on. This is a convex optimization problem with variable $R$ and constants $a_i$.\n",
    "\n",
    "It is equivalently formulated in epigraph form as:\n",
    "\n",
    "\\begin{equation*}\n",
    "  \\begin{aligned}\n",
    "    &\\text{minimize} && t + t_{det}\\mathbb{1} \\\\\n",
    "    &\\text{subject to} &&  -\\log \\det R \\leq t_{det} \\\\\n",
    "                   &   &&  t_i = \\text{tr}\\, (R a_i a_i^T) &&& i = 1,..., m \\\\\n",
    "  \\end{aligned}\n",
    "\\end{equation*}\n",
    "\n",
    "where $t \\in \\mathbb{R}^n$, and $t_{det} \\in \\mathbb{R}$ are the variables and $a_i$ are the constants.\n",
    "\n",
    "\n"
   ]
  },
  {
   "cell_type": "code",
   "execution_count": 6,
   "metadata": {},
   "outputs": [
    {
     "name": "stdout",
     "output_type": "stream",
     "text": [
      "status: optimal_inaccurate\n",
      "optimal value: -24.8849355499\n",
      "true optimal value: None\n",
      "status: optimal_inaccurate\n",
      "optimal value: -24.8035951728\n",
      "true optimal value: None\n"
     ]
    }
   ],
   "source": [
    "import cvxpy as cp\n",
    "import numpy as np\n",
    "import scipy as sp\n",
    "\n",
    "# Variable declarations\n",
    "\n",
    "np.random.seed(0)\n",
    "m = 11 # Number of observations of each random variable\n",
    "n = 5 # Number of random variables\n",
    "k = 3 # Needs to be less than m. \n",
    "A = np.matrix(np.random.rand(m,n))\n",
    "A -= np.mean(A, axis=0)\n",
    "K = np.array([(A[i].T*A[i]).flatten() for i in range(m)])\n",
    "\n",
    "\n",
    "# Problem construction\n",
    "problems = []\n",
    "opt_vals = []\n",
    "\n",
    "# Problem 1 (Epigraph formulation)\n",
    "sigma_inv1 = cp.Variable(n,n) # Inverse covariance matrix\n",
    "t = cp.Variable(m)\n",
    "tdet = cp.Variable(1)\n",
    "\n",
    "f = cp.sum_largest(t+tdet, k)\n",
    "z = K*cp.reshape(sigma_inv1, n*n, 1)\n",
    "C = [-cp.log_det(sigma_inv1) <= tdet, t == z]\n",
    "problems.append(cp.Problem(cp.Minimize(f), C))\n",
    "opt_vals.append(None)\n",
    "\n",
    "# Problem 2 (Equivalent unconstrained formulation)\n",
    "sigma_inv2 = cp.Variable(n, n) # Inverse covariance matrix\n",
    "obs = cp.vstack([-cp.log_det(sigma_inv2) + cp.trace(A[i].T*A[i]*sigma_inv2) for i in range(m)])\n",
    "f2 = cp.sum_largest(obs, k)\n",
    "problems.append(cp.Problem(cp.Minimize(f2)))\n",
    "opt_vals.append(None)\n",
    "\n",
    "# For debugging individual problems:\n",
    "if __name__ == \"__main__\":\n",
    "    for prob, opt_val in zip(problems, opt_vals):\n",
    "        prob.solve(solver=\"SCS\", eps=1e-5)\n",
    "        print(\"status: {}\".format(prob.status))\n",
    "        print(\"optimal value: {}\".format(prob.value))\n",
    "        print(\"true optimal value: {}\".format(opt_val))\n",
    "\n"
   ]
  },
  {
   "cell_type": "code",
   "execution_count": null,
   "metadata": {
    "collapsed": true
   },
   "outputs": [],
   "source": []
  }
 ],
 "metadata": {
  "kernelspec": {
   "display_name": "Python 2",
   "language": "python",
   "name": "python2"
  },
  "language_info": {
   "codemirror_mode": {
    "name": "ipython",
    "version": 2
   },
   "file_extension": ".py",
   "mimetype": "text/x-python",
   "name": "python",
   "nbconvert_exporter": "python",
   "pygments_lexer": "ipython2",
   "version": "2.7.12"
  }
 },
 "nbformat": 4,
 "nbformat_minor": 2
}
