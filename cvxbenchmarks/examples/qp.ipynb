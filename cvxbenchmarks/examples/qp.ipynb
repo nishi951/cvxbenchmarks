{
 "cells": [
  {
   "cell_type": "markdown",
   "metadata": {},
   "source": [
    "### Quadratic Programming\n",
    "\n",
    "Quadratic programs (aka QPs) are a specific type of problem characterized by a (1) quadratic objective and (2) linear equality and inequality constraints. The most general form is:\n",
    "\n",
    "\\begin{equation*}\n",
    "  \\begin{aligned}\n",
    "    &\\text{minimize} && \\frac{1}{2}x^TPx + q^Tx + r \\\\\n",
    "    &\\text{subject to} && Ax = b \\\\\n",
    "    &                  && Cx \\leq d\n",
    "  \\end{aligned}\n",
    "\\end{equation*}\n",
    "\n",
    "\n",
    "Here, we consider QPs of the form:\n",
    "\n",
    "\\begin{equation*}\n",
    "  \\begin{aligned}\n",
    "    &\\text{minimize} && \\frac{1}{2}x^TPx + q^Tx + r \\\\\n",
    "    &\\text{subject to} && l_i \\leq x_i \\leq u_i &&& i = 1,...,n\n",
    "  \\end{aligned}\n",
    "\\end{equation*}\n",
    "\n",
    "where $x \\in \\mathbb{R}^n$ is the variable, and $P, q, r, l_i, r_i$ are constants.\n"
   ]
  },
  {
   "cell_type": "code",
   "execution_count": 1,
   "metadata": {},
   "outputs": [
    {
     "name": "stdout",
     "output_type": "stream",
     "text": [
      "qp_0\n",
      "\tstatus: optimal\n",
      "\toptimal value: 4235.904726238376\n",
      "\ttrue optimal value: None\n"
     ]
    }
   ],
   "source": [
    "import cvxpy as cp\n",
    "import numpy as np\n",
    "import scipy as sp\n",
    "\n",
    "# setup\n",
    "\n",
    "problemID = \"qp_0\"\n",
    "prob = None\n",
    "opt_val = None\n",
    "\n",
    "# Variable declarations\n",
    "\n",
    "np.random.seed(0)\n",
    "n = 1000\n",
    "\n",
    "P = np.random.rand(n,n);\n",
    "P = P.T.dot(P) + np.eye(n)\n",
    "q = np.random.randn(n);\n",
    "r = np.random.randn();\n",
    "\n",
    "l = np.random.randn(n);\n",
    "u = np.random.randn(n);\n",
    "lb = np.minimum(l,u);\n",
    "ub = np.maximum(l,u);\n",
    "\n",
    "# Problem construction\n",
    "\n",
    "x = cp.Variable(n)\n",
    "f = 0.5*cp.quad_form(x, P) + q.T*x + r\n",
    "C = [x >= lb,\n",
    "     x <= ub]\n",
    "prob = cp.Problem(cp.Minimize(f), C)\n",
    "\n",
    "\n",
    "# Problem collection\n",
    "\n",
    "# Single problem collection\n",
    "problemDict = {\n",
    "    \"problemID\" : problemID,\n",
    "    \"problem\"   : prob,\n",
    "    \"opt_val\"   : opt_val\n",
    "}\n",
    "problems = [problemDict]\n",
    "\n",
    "\n",
    "\n",
    "# For debugging individual problems:\n",
    "if __name__ == \"__main__\":\n",
    "    def printResults(problemID = \"\", problem = None, opt_val = None):\n",
    "        print(problemID)\n",
    "        problem.solve()\n",
    "        print(\"\\tstatus: {}\".format(problem.status))\n",
    "        print(\"\\toptimal value: {}\".format(problem.value))\n",
    "        print(\"\\ttrue optimal value: {}\".format(opt_val))\n",
    "    printResults(**problems[0])\n"
   ]
  },
  {
   "cell_type": "code",
   "execution_count": null,
   "metadata": {
    "collapsed": true
   },
   "outputs": [],
   "source": []
  }
 ],
 "metadata": {
  "kernelspec": {
   "display_name": "Python 3",
   "language": "python",
   "name": "python3"
  },
  "language_info": {
   "codemirror_mode": {
    "name": "ipython",
    "version": 3
   },
   "file_extension": ".py",
   "mimetype": "text/x-python",
   "name": "python",
   "nbconvert_exporter": "python",
   "pygments_lexer": "ipython3",
   "version": "3.6.1"
  }
 },
 "nbformat": 4,
 "nbformat_minor": 2
}
