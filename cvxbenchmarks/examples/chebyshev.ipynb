{
 "cells": [
  {
   "cell_type": "markdown",
   "metadata": {},
   "source": [
    "### Chebyshev\n",
    "\n",
    "The generic Chebyshev approximation problem is (for $i = 1,...,k$)\n",
    "\\begin{equation*}\n",
    "  \\begin{aligned}\n",
    "    &\\text{minimize} && \\max_i \\left|b_i^Tx - c_i\\right| \\\\\n",
    "  \\end{aligned}\n",
    "\\end{equation*}\n",
    "\n",
    "We add an L2 term to form the problem:\n",
    "\n",
    "\\begin{equation*}\n",
    "  \\begin{aligned}\n",
    "    &\\text{minimize} && \\max_i \\| A^{(i)}x \\|_2 + \\left|b_i^Tx - c_i\\right| \\\\\n",
    "  \\end{aligned}\n",
    "\\end{equation*}\n",
    "\n",
    "or equivalently:\n",
    "\n",
    "\\begin{equation*}\n",
    "  \\begin{aligned}\n",
    "    &\\text{minimize} && \\max_i t + \\left|b_i^Tx - c_i\\right| \\\\\n",
    "    &\\text{subject to} && \\|A^{(i)}x\\|_2 \\leq t_i &&&i = 1,...,k\n",
    "  \\end{aligned}\n",
    "\\end{equation*}"
   ]
  },
  {
   "cell_type": "code",
   "execution_count": 2,
   "metadata": {
    "collapsed": true
   },
   "outputs": [],
   "source": [
    "import cvxpy as cp\n",
    "import numpy as np\n",
    "import scipy as sp\n",
    "\n",
    "# Variable declarations\n",
    "\n",
    "def normalized_data_matrix(m, n, mu):\n",
    "    if mu == 1:\n",
    "        # dense\n",
    "        A = np.random.randn(m, n)\n",
    "        A /= np.sqrt(np.sum(A**2, 0))\n",
    "    else:\n",
    "        # sparse\n",
    "        A = sp.rand(m, n, mu)\n",
    "        A.data = np.random.randn(A.nnz)\n",
    "        N = A.copy()\n",
    "        N.data = N.data**2\n",
    "        A = A*sp.diags([1 / np.sqrt(np.ravel(N.sum(axis=0)))], [0])\n",
    "\n",
    "    return A\n",
    "\n",
    "np.random.seed(0)\n",
    "m = 100\n",
    "n = 200\n",
    "k = 10\n",
    "A = [normalized_data_matrix(m,n,1) for i in range(k)]\n",
    "B = normalized_data_matrix(k,n,1)\n",
    "c = np.random.rand(k)\n",
    "\n",
    "x = cp.Variable(n)\n",
    "t = cp.Variable(k)"
   ]
  },
  {
   "cell_type": "code",
   "execution_count": 8,
   "metadata": {},
   "outputs": [
    {
     "name": "stdout",
     "output_type": "stream",
     "text": [
      "('status:', 'optimal')\n",
      "('optimal value:', 0.32590134030887485)\n",
      "('true optimal value:', None)\n",
      "('status:', 'optimal')\n",
      "('optimal value:', 0.3259013412464839)\n",
      "('true optimal value:', None)\n"
     ]
    }
   ],
   "source": [
    "# Problem construction\n",
    "prob = None\n",
    "opt_val = None\n",
    "\n",
    "\n",
    "f = cp.max_entries(t+cp.abs(B*x-c))\n",
    "C = []\n",
    "for i in range(k):\n",
    "    C.append(cp.pnorm(A[i]*x, 2) <= t[i])\n",
    "\n",
    "prob = cp.Problem(cp.Minimize(f), C)\n",
    "\n",
    "## Equivalent formulation:\n",
    "obj_list = [cp.pnorm(A[i]*x, 2) + cp.abs(B[i,:]*x - c[i]) for i in range(k)]\n",
    "f2 = cp.max_elemwise(obj_list)\n",
    "prob2 = cp.Problem(cp.Minimize(f2))\n",
    "\n",
    "# For debugging individual problems:\n",
    "if __name__ == \"__main__\":\n",
    "    prob.solve()\n",
    "    prob2.solve()\n",
    "    print(\"status:\", prob.status)\n",
    "    print(\"optimal value:\", prob.value)\n",
    "    print(\"true optimal value:\", opt_val)\n",
    "    print(\"status:\", prob2.status)\n",
    "    print(\"optimal value:\", prob2.value)\n",
    "    print(\"true optimal value:\", opt_val)"
   ]
  }
 ],
 "metadata": {
  "kernelspec": {
   "display_name": "Python 2",
   "language": "python",
   "name": "python2"
  },
  "language_info": {
   "codemirror_mode": {
    "name": "ipython",
    "version": 2
   },
   "file_extension": ".py",
   "mimetype": "text/x-python",
   "name": "python",
   "nbconvert_exporter": "python",
   "pygments_lexer": "ipython2",
   "version": "2.7.12"
  }
 },
 "nbformat": 4,
 "nbformat_minor": 2
}
