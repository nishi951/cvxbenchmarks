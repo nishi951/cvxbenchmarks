{
 "cells": [
  {
   "cell_type": "markdown",
   "metadata": {},
   "source": [
    "### Linear Programming\n",
    "\n",
    "A Standard-form Linear Program (LP) is given as:\n",
    "\n",
    "\\begin{equation*}\n",
    "  \\begin{aligned}\n",
    "    &\\text{minimize} && c^Tx \\\\\n",
    "    &\\text{subject to} && Ax = b \\\\\n",
    "    &                  && x \\geq 0\n",
    "  \\end{aligned}\n",
    "\\end{equation*}\n",
    "\n",
    "with variable $x$ and constants $c, A, b$.\n",
    "\n",
    "Note that the most general form of a linear program is:\n",
    "\n",
    "\\begin{equation*}\n",
    "  \\begin{aligned}\n",
    "    &\\text{minimize} && c^Tx \\\\\n",
    "    &\\text{subject to} && Ax \\leq b \\\\\n",
    "    &                  && Cx = d\n",
    "  \\end{aligned}\n",
    "\\end{equation*}\n",
    "\n",
    "with variable $x$ and constants $c, A, b, C, d$.\n",
    "\n",
    "These can always be converted into LPs in standard form.\n",
    "\n",
    "See other resources on LPs (e.g. Boyd and Vandenberghe, Section 4.3) for more details on how to convert between these forms."
   ]
  },
  {
   "cell_type": "code",
   "execution_count": 1,
   "metadata": {
    "collapsed": true
   },
   "outputs": [],
   "source": [
    "import cvxpy as cp\n",
    "import numpy as np\n",
    "import scipy as sp\n",
    "\n",
    "# Variable declarations\n",
    "\n",
    "m = 20\n",
    "n = 50\n",
    "np.random.seed(1)\n",
    "\n",
    "A = np.random.rand(m, n)\n",
    "\n",
    "y = (np.random.rand(n) - 0.5)\n",
    "x_hat = -np.select([y < 0], [y])\n",
    "Lambda = np.select([y >= 0], [y]) # x_hat^T Lambda = 0\n",
    "\n",
    "mu = np.random.rand(m)\n",
    "c = Lambda - A.T.dot(mu)\n",
    "b = A.dot(x_hat)\n",
    "x = cp.Variable(n)"
   ]
  },
  {
   "cell_type": "markdown",
   "metadata": {},
   "source": [
    "We construct this problem using the KKT conditions, which are primal and dual feasibility, complementary slackness, and the first order condition that $\\nabla (c^Tx) - \\nabla (\\lambda^Tx) + \\nabla(\\mu^T (Ax - b)) = 0$.\n",
    "\n",
    "This gives:\n",
    "\n",
    "\\begin{equation}\n",
    "Ax = b \\qquad \\lambda \\geq 0 \\qquad \\lambda^Tx = 0 \\qquad c - \\lambda + A^T \\mu = 0\n",
    "\\end{equation}\n",
    "\n",
    "After randomly generating a data matrix $A$, we start with complementary slackness, generating $\\lambda$ and $x$ by splitting a randomly generated vector $y$ into negative and nonnegative components. Next, we generate the dual variable $mu$ randomly, which allows us to completely determine $c$ using the first order condition. Finally, primal feasibility allows us to determine $b$."
   ]
  },
  {
   "cell_type": "code",
   "execution_count": 2,
   "metadata": {},
   "outputs": [
    {
     "name": "stdout",
     "output_type": "stream",
     "text": [
      "('status:', 'optimal')\n",
      "('optimal value:', -38.65106928685982)\n",
      "('true optimal value:', -38.651069287050454)\n"
     ]
    }
   ],
   "source": [
    "# Problem construction\n",
    "prob = None\n",
    "opt_val = np.dot(c, x_hat) # By the KKT conditions, this must be the optimal value.\n",
    "\n",
    "objective = cp.Minimize(c*x)\n",
    "constraints = [A*x == b, x >= 0]\n",
    "\n",
    "prob = cp.Problem(objective, constraints)\n",
    "\n",
    "\n",
    "# For debugging individual problems:\n",
    "if __name__ == \"__main__\":\n",
    "    prob.solve()\n",
    "    print(\"status:\", prob.status)\n",
    "    print(\"optimal value:\", prob.value)\n",
    "    print(\"true optimal value:\", opt_val)"
   ]
  },
  {
   "cell_type": "code",
   "execution_count": null,
   "metadata": {
    "collapsed": true
   },
   "outputs": [],
   "source": []
  }
 ],
 "metadata": {
  "kernelspec": {
   "display_name": "Python 2",
   "language": "python",
   "name": "python2"
  },
  "language_info": {
   "codemirror_mode": {
    "name": "ipython",
    "version": 2
   },
   "file_extension": ".py",
   "mimetype": "text/x-python",
   "name": "python",
   "nbconvert_exporter": "python",
   "pygments_lexer": "ipython2",
   "version": "2.7.12"
  }
 },
 "nbformat": 4,
 "nbformat_minor": 2
}
