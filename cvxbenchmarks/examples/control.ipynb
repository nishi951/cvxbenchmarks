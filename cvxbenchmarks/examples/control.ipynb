{
 "cells": [
  {
   "cell_type": "markdown",
   "metadata": {},
   "source": [
    "### Control\n",
    "\n",
    "The evolution of a linear dynamical system with states $x_i$ and control inputs $u_i$ can be described by the equation:\n",
    "\\begin{equation}\n",
    "x_{t+1} = Ax_t + Bu_t\n",
    "\\end{equation}\n",
    "where $A$ and $B$ are the matrices controlling the (linear) state updates.\n",
    "\n",
    "A generic control problem might try to minimize the overall cost of the inputs, subject to achieving some sort of final state, in a specified amount of time, and some maximum size of input. For example, we might try to move the state from $x_{init}$ to 0 in $T$ time steps, while minimizing the $\\ell_1$ norm of the control inputs (this encourages sparse inputs).\n",
    "\n",
    "\\begin{equation*}\n",
    "  \\begin{aligned}\n",
    "    &\\text{minimize} && \\sum_{i = 0}^{T-1} \\|u_i\\|_1 \\\\\n",
    "    &\\text{subject to} && x_{i+1} = Ax_i + Bu_i &&& i = 0,..., T-1 \\\\\n",
    "                     &  && x_0 = x_{init} \\\\\n",
    "                     &  && x_T = 0 \n",
    "  \\end{aligned}\n",
    "\\end{equation*}\n",
    "\n",
    "The variables are the states $x_0,..., x_T$ and the inputs $u_0,..., u_{T-1}$. $x_{init}$ is a fixed parameter."
   ]
  },
  {
   "cell_type": "code",
   "execution_count": 1,
   "metadata": {},
   "outputs": [
    {
     "name": "stdout",
     "output_type": "stream",
     "text": [
      "control_0\n",
      "\tstatus: optimal\n",
      "\toptimal value: 80.9849478623\n",
      "\ttrue optimal value: None\n"
     ]
    }
   ],
   "source": [
    "import cvxpy as cp\n",
    "import numpy as np\n",
    "import scipy as sp\n",
    "\n",
    "# setup\n",
    "\n",
    "problemID = \"control_0\"\n",
    "prob = None\n",
    "opt_val = None\n",
    "\n",
    "# Variable declarations\n",
    "\n",
    "# Generate data for control problem.\n",
    "np.random.seed(1)\n",
    "m = 2 # number of inputs\n",
    "n = 8 # number of states\n",
    "T = 50 # number of time steps\n",
    "alpha = 0.2\n",
    "beta = 5\n",
    "A = np.eye(n) + alpha*np.random.randn(n,n)\n",
    "B = np.random.randn(n,m)\n",
    "x_0 = beta*np.random.randn(n,1)\n",
    "\n",
    "\n",
    "# Problem construction\n",
    "\n",
    "# Form and solve control problem.\n",
    "x = cp.Variable(n, T+1)\n",
    "u = cp.Variable(m, T)\n",
    "states = []\n",
    "for t in range(T):\n",
    "    cost = cp.pnorm(u[:,t], 1)\n",
    "    constr = [x[:,t+1] == A*x[:,t] + B*u[:,t],\n",
    "              cp.norm(u[:,t], 'inf') <= 1]\n",
    "    states.append(cp.Problem(cp.Minimize(cost), constr))\n",
    "# sums problem objectives and concatenates constraints.\n",
    "prob = sum(states)\n",
    "prob.constraints += [x[:,T] == 0, x[:,0] == x_0]\n",
    "\n",
    "\n",
    "# Problem collection\n",
    "\n",
    "# Single problem collection\n",
    "problemDict = {\n",
    "    \"problemID\" : problemID,\n",
    "    \"problem\"   : prob,\n",
    "    \"opt_val\"   : opt_val\n",
    "}\n",
    "problems = [problemDict]\n",
    "\n",
    "\n",
    "\n",
    "# For debugging individual problems:\n",
    "if __name__ == \"__main__\":\n",
    "    def printResults(problemID = \"\", problem = None, opt_val = None):\n",
    "        print(problemID)\n",
    "        problem.solve()\n",
    "        print(\"\\tstatus: {}\".format(problem.status))\n",
    "        print(\"\\toptimal value: {}\".format(problem.value))\n",
    "        print(\"\\ttrue optimal value: {}\".format(opt_val))\n",
    "    printResults(**problems[0])\n",
    "\n"
   ]
  },
  {
   "cell_type": "code",
   "execution_count": null,
   "metadata": {
    "collapsed": true
   },
   "outputs": [],
   "source": []
  }
 ],
 "metadata": {
  "kernelspec": {
   "display_name": "Python 2",
   "language": "python",
   "name": "python2"
  },
  "language_info": {
   "codemirror_mode": {
    "name": "ipython",
    "version": 2
   },
   "file_extension": ".py",
   "mimetype": "text/x-python",
   "name": "python",
   "nbconvert_exporter": "python",
   "pygments_lexer": "ipython2",
   "version": "2.7.12"
  }
 },
 "nbformat": 4,
 "nbformat_minor": 2
}
