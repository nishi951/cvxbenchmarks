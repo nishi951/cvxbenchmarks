{
 "cells": [
  {
   "cell_type": "markdown",
   "metadata": {},
   "source": [
    "### Quantile Regression\n",
    "\n",
    "Quantile regression "
   ]
  },
  {
   "cell_type": "code",
   "execution_count": null,
   "metadata": {
    "collapsed": true
   },
   "outputs": [],
   "source": [
    "import cvxpy as cp\n",
    "import numpy as np\n",
    "import scipy as sp\n",
    "\n",
    "# setup\n",
    "\n",
    "problemID = \"quantile_0\"\n",
    "prob = None\n",
    "opt_val = None\n",
    "\n",
    "# Variable declarations\n",
    "\n",
    "# Generate data\n",
    "np.random.seed(0)\n",
    "m = 400\n",
    "n = 10\n",
    "k = 100\n",
    "p = 1\n",
    "sigma = 0.1\n",
    "\n",
    "x = np.random.rand(m)*2*np.pi*p\n",
    "y = np.sin(x) + sigma*np.sin(x)*np.random.randn(m)\n",
    "alphas = np.linspace(1./(k+1), 1-1./(k+1), k)\n",
    "\n",
    "# RBF (Radial Basis Function) features\n",
    "mu_rbf = np.array([np.linspace(-1, 2*np.pi*p+1, n)])\n",
    "mu_sig = (2*np.pi*p+2)/n\n",
    "X = np.exp(-(mu_rbf.T - x).T**2/(2*mu_sig**2)) # Gaussian\n",
    "# X has dimension m x n\n",
    "\n",
    "Theta = cp.Variable(n,k)\n",
    "\n",
    "\n",
    "# Problem construction\n",
    "\n",
    "# Other probabilistic models\n",
    "def quantile_loss(alphas, Theta, X, y):\n",
    "    m, n = X.shape\n",
    "    k = len(alphas)\n",
    "    Y = np.tile(y.flatten(), (k, 1)).T\n",
    "    A = np.tile(alphas, (m, 1))\n",
    "    Z = X*Theta - Y\n",
    "    return cp.sum_entries(\n",
    "        cp.max_elemwise(\n",
    "            cp.mul_elemwise( -A, Z),\n",
    "            cp.mul_elemwise(1-A, Z)))\n",
    "\n",
    "f = quantile_loss(alphas, Theta, X, y)\n",
    "C = [X*(Theta[:,:-1] - Theta[:,1:]) >= 0]\n",
    "prob = cp.Problem(cp.Minimize(f), C)\n",
    "\n",
    "\n",
    "# Problem collection\n",
    "\n",
    "# Single problem collection\n",
    "problemDict = {\n",
    "    \"problemID\" : problemID,\n",
    "    \"problem\"   : prob,\n",
    "    \"opt_val\"   : opt_val\n",
    "}\n",
    "problems = [problemDict]\n",
    "\n",
    "\n",
    "\n",
    "# For debugging individual problems:\n",
    "if __name__ == \"__main__\":\n",
    "    def printResults(problemID = \"\", problem = None, opt_val = None):\n",
    "        print(problemID)\n",
    "        problem.solve()\n",
    "        print(\"\\tstatus: {}\".format(problem.status))\n",
    "        print(\"\\toptimal value: {}\".format(problem.value))\n",
    "        print(\"\\ttrue optimal value: {}\".format(opt_val))\n",
    "    printResults(**problems[0])"
   ]
  }
 ],
 "metadata": {
  "kernelspec": {
   "display_name": "Python 3",
   "language": "python",
   "name": "python3"
  },
  "language_info": {
   "codemirror_mode": {
    "name": "ipython",
    "version": 3
   },
   "file_extension": ".py",
   "mimetype": "text/x-python",
   "name": "python",
   "nbconvert_exporter": "python",
   "pygments_lexer": "ipython3",
   "version": "3.6.1"
  }
 },
 "nbformat": 4,
 "nbformat_minor": 2
}
