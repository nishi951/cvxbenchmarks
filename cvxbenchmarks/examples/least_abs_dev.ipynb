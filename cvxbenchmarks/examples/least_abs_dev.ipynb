{
 "cells": [
  {
   "cell_type": "markdown",
   "metadata": {},
   "source": [
    "### Least Absolute Deviation (L1 Norm Minimization)\n",
    "\n",
    "In regression the technique of least absolute deviation, (aka least absolute errors, least absolute residual, least absolute value, sum of absolute deviations,...) is a way of finding a finding the best parameter fit, where \"best\" is determined by the $\\ell_1$ norm:\n",
    "\n",
    "\\begin{equation}\n",
    "\\|x\\|_1 = \\sum_{i = 1}^n \\left| x_i \\right|\n",
    "\\end{equation}\n",
    "\n",
    "where $x$ is an $n$-vector. Given points $(a_i, b_i)$ where $a_i$ are vectors and $b_i$ are scalars, the least absolute deviation problem is:\n",
    "\n",
    "\\begin{equation*}\n",
    "  \\begin{aligned}\n",
    "    &\\text{minimize} && \\sum_{i = 1}^n \\left| a_i^Tx + v - b_i \\right| \\\\\n",
    "  \\end{aligned}\n",
    "\\end{equation*}\n",
    "where $x$ and $v$ are the variables to be optimized.\n",
    "\n",
    "L1 Norm minimization is often used instead of least squares in cases when the data contains outliers because the absolute value is more robust (less sensitive) to outliers in the data."
   ]
  },
  {
   "cell_type": "code",
   "execution_count": 15,
   "metadata": {},
   "outputs": [
    {
     "name": "stdout",
     "output_type": "stream",
     "text": [
      "('status:', 'optimal')\n",
      "('optimal value:', 7928.132225687829)\n",
      "('true optimal value:', None)\n"
     ]
    }
   ],
   "source": [
    "import cvxpy as cp\n",
    "import numpy as np\n",
    "import scipy as sp\n",
    "\n",
    "# Variable declarations\n",
    "\n",
    "import scipy.sparse as sps\n",
    "\n",
    "np.random.seed(0)\n",
    "m = 5000\n",
    "n = 200\n",
    "\n",
    "A = np.random.randn(m,n);\n",
    "A = A*sps.diags([1 / np.sqrt(np.sum(A**2, 0))], [0]) # Normalize each column\n",
    "b = A.dot(10*np.random.randn(n) + 5*np.random.randn(1))\n",
    "\n",
    "# Select a subset of the points to be outliers (have large deviations)\n",
    "k = max(m//50, 1)\n",
    "idx = np.random.randint(0, m, k)\n",
    "b[idx] += 100*np.random.randn(k)\n",
    "\n",
    "x = cp.Variable(n)\n",
    "v = cp.Variable(1)\n",
    "\n",
    "# Problem construction\n",
    "prob = None\n",
    "opt_val = None\n",
    "\n",
    "prob = cp.Problem(cp.Minimize(cp.norm1(A*x + v*np.ones(m) - b)))\n",
    "\n",
    "\n",
    "# For debugging individual problems:\n",
    "if __name__ == \"__main__\":\n",
    "    prob.solve()\n",
    "    print(\"status:\", prob.status)\n",
    "    print(\"optimal value:\", prob.value)\n",
    "    print(\"true optimal value:\", opt_val)"
   ]
  }
 ],
 "metadata": {
  "kernelspec": {
   "display_name": "Python 2",
   "language": "python",
   "name": "python2"
  },
  "language_info": {
   "codemirror_mode": {
    "name": "ipython",
    "version": 2
   },
   "file_extension": ".py",
   "mimetype": "text/x-python",
   "name": "python",
   "nbconvert_exporter": "python",
   "pygments_lexer": "ipython2",
   "version": "2.7.12"
  }
 },
 "nbformat": 4,
 "nbformat_minor": 2
}
