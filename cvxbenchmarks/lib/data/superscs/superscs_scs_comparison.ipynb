{
 "cells": [
  {
   "cell_type": "code",
   "execution_count": 1,
   "metadata": {
    "collapsed": true
   },
   "outputs": [],
   "source": [
    "import cvxpy as cp\n"
   ]
  },
  {
   "cell_type": "code",
   "execution_count": 2,
   "metadata": {},
   "outputs": [
    {
     "data": {
      "text/plain": [
       "['ECOS', 'ECOS_BB', 'SCS', 'SUPERSCS', 'MOSEK', 'LS']"
      ]
     },
     "execution_count": 2,
     "metadata": {},
     "output_type": "execute_result"
    }
   ],
   "source": [
    "cp.installed_solvers()"
   ]
  },
  {
   "cell_type": "code",
   "execution_count": 25,
   "metadata": {},
   "outputs": [],
   "source": [
    "# SuperSCS LASSO Benchmark\n",
    "\n",
    "import numpy as np\n",
    "import cvxpy as cp\n",
    "import scipy as sp\n",
    "\n",
    "import scipy.sparse as sps\n",
    "\n",
    "np.random.seed(0)\n",
    "# Variable declarations\n",
    "n = 10000\n",
    "m = 2000\n",
    "\n",
    "s = int(np.ceil(n/10))\n",
    "x_true = np.vstack((np.random.randn(s, 1), np.zeros((n-s, 1))))\n",
    "x_true = np.random.permutation(x_true)\n",
    "\n",
    "density = 0.1\n",
    "rcA = 0.1\n",
    "A = sps.random(m, n, density, data_rvs = np.random.randn)\n",
    "\n",
    "b = A*x_true + 0.1*np.random.randn(m, 1)\n",
    "mu = 1\n",
    "\n",
    "\n",
    "# Problem construction\n",
    "x = cp.Variable(n)\n",
    "\n",
    "prob = cp.Problem(cp.Minimize(0.5*cp.sum_squares(A*x) + mu*cp.norm1(x)))\n",
    "\n",
    "problems = {\"superscs_lasso\" : prob}\n",
    "\n"
   ]
  },
  {
   "cell_type": "code",
   "execution_count": 109,
   "metadata": {},
   "outputs": [
    {
     "ename": "SolverError",
     "evalue": "Solver does not support positive semidefinite cone.",
     "output_type": "error",
     "traceback": [
      "\u001b[0;31m---------------------------------------------------------------------------\u001b[0m",
      "\u001b[0;31mSolverError\u001b[0m                               Traceback (most recent call last)",
      "\u001b[0;32m<ipython-input-109-536b815fd592>\u001b[0m in \u001b[0;36m<module>\u001b[0;34m()\u001b[0m\n\u001b[1;32m     37\u001b[0m \u001b[0;31m# For debugging individual problems:\u001b[0m\u001b[0;34m\u001b[0m\u001b[0;34m\u001b[0m\u001b[0m\n\u001b[1;32m     38\u001b[0m \u001b[0;32mif\u001b[0m \u001b[0m__name__\u001b[0m \u001b[0;34m==\u001b[0m \u001b[0;34m\"__main__\"\u001b[0m\u001b[0;34m:\u001b[0m\u001b[0;34m\u001b[0m\u001b[0m\n\u001b[0;32m---> 39\u001b[0;31m     \u001b[0mprob\u001b[0m\u001b[0;34m.\u001b[0m\u001b[0msolve\u001b[0m\u001b[0;34m(\u001b[0m\u001b[0msolver\u001b[0m\u001b[0;34m=\u001b[0m\u001b[0;34m\"SUPERSCS\"\u001b[0m\u001b[0;34m)\u001b[0m\u001b[0;34m\u001b[0m\u001b[0m\n\u001b[0m\u001b[1;32m     40\u001b[0m     \u001b[0mprint\u001b[0m\u001b[0;34m(\u001b[0m\u001b[0;34m\"status:\"\u001b[0m\u001b[0;34m,\u001b[0m \u001b[0mprob\u001b[0m\u001b[0;34m.\u001b[0m\u001b[0mstatus\u001b[0m\u001b[0;34m)\u001b[0m\u001b[0;34m\u001b[0m\u001b[0m\n\u001b[1;32m     41\u001b[0m     \u001b[0mprint\u001b[0m\u001b[0;34m(\u001b[0m\u001b[0;34m\"optimal value:\"\u001b[0m\u001b[0;34m,\u001b[0m \u001b[0mprob\u001b[0m\u001b[0;34m.\u001b[0m\u001b[0mvalue\u001b[0m\u001b[0;34m)\u001b[0m\u001b[0;34m\u001b[0m\u001b[0m\n",
      "\u001b[0;32m~/Documents/Stanford/superscs/benchmark/lib/python3.6/site-packages/cvxpy-0.4.9-py3.6.egg/cvxpy/problems/problem.py\u001b[0m in \u001b[0;36msolve\u001b[0;34m(self, *args, **kwargs)\u001b[0m\n\u001b[1;32m    207\u001b[0m             \u001b[0;32mreturn\u001b[0m \u001b[0mfunc\u001b[0m\u001b[0;34m(\u001b[0m\u001b[0mself\u001b[0m\u001b[0;34m,\u001b[0m \u001b[0;34m*\u001b[0m\u001b[0margs\u001b[0m\u001b[0;34m,\u001b[0m \u001b[0;34m**\u001b[0m\u001b[0mkwargs\u001b[0m\u001b[0;34m)\u001b[0m\u001b[0;34m\u001b[0m\u001b[0m\n\u001b[1;32m    208\u001b[0m         \u001b[0;32melse\u001b[0m\u001b[0;34m:\u001b[0m\u001b[0;34m\u001b[0m\u001b[0m\n\u001b[0;32m--> 209\u001b[0;31m             \u001b[0;32mreturn\u001b[0m \u001b[0mself\u001b[0m\u001b[0;34m.\u001b[0m\u001b[0m_solve\u001b[0m\u001b[0;34m(\u001b[0m\u001b[0;34m*\u001b[0m\u001b[0margs\u001b[0m\u001b[0;34m,\u001b[0m \u001b[0;34m**\u001b[0m\u001b[0mkwargs\u001b[0m\u001b[0;34m)\u001b[0m\u001b[0;34m\u001b[0m\u001b[0m\n\u001b[0m\u001b[1;32m    210\u001b[0m \u001b[0;34m\u001b[0m\u001b[0m\n\u001b[1;32m    211\u001b[0m     \u001b[0;34m@\u001b[0m\u001b[0mclassmethod\u001b[0m\u001b[0;34m\u001b[0m\u001b[0m\n",
      "\u001b[0;32m~/Documents/Stanford/superscs/benchmark/lib/python3.6/site-packages/cvxpy-0.4.9-py3.6.egg/cvxpy/problems/problem.py\u001b[0m in \u001b[0;36m_solve\u001b[0;34m(self, solver, ignore_dcp, warm_start, verbose, parallel, **kwargs)\u001b[0m\n\u001b[1;32m    324\u001b[0m \u001b[0;34m\u001b[0m\u001b[0m\n\u001b[1;32m    325\u001b[0m         sym_data = solver.get_sym_data(objective, constraints,\n\u001b[0;32m--> 326\u001b[0;31m                                        self._cached_data)\n\u001b[0m\u001b[1;32m    327\u001b[0m         \u001b[0;31m# Presolve couldn't solve the problem.\u001b[0m\u001b[0;34m\u001b[0m\u001b[0;34m\u001b[0m\u001b[0m\n\u001b[1;32m    328\u001b[0m         \u001b[0;32mif\u001b[0m \u001b[0msym_data\u001b[0m\u001b[0;34m.\u001b[0m\u001b[0mpresolve_status\u001b[0m \u001b[0;32mis\u001b[0m \u001b[0;32mNone\u001b[0m\u001b[0;34m:\u001b[0m\u001b[0;34m\u001b[0m\u001b[0m\n",
      "\u001b[0;32m~/Documents/Stanford/superscs/benchmark/lib/python3.6/site-packages/cvxpy-0.4.9-py3.6.egg/cvxpy/problems/solvers/solver.py\u001b[0m in \u001b[0;36mget_sym_data\u001b[0;34m(self, objective, constraints, cached_data)\u001b[0m\n\u001b[1;32m    195\u001b[0m         \u001b[0mprob_data\u001b[0m \u001b[0;34m=\u001b[0m \u001b[0mcached_data\u001b[0m\u001b[0;34m[\u001b[0m\u001b[0mself\u001b[0m\u001b[0;34m.\u001b[0m\u001b[0mname\u001b[0m\u001b[0;34m(\u001b[0m\u001b[0;34m)\u001b[0m\u001b[0;34m]\u001b[0m\u001b[0;34m\u001b[0m\u001b[0m\n\u001b[1;32m    196\u001b[0m         \u001b[0;32mif\u001b[0m \u001b[0mprob_data\u001b[0m\u001b[0;34m.\u001b[0m\u001b[0msym_data\u001b[0m \u001b[0;32mis\u001b[0m \u001b[0;32mNone\u001b[0m\u001b[0;34m:\u001b[0m\u001b[0;34m\u001b[0m\u001b[0m\n\u001b[0;32m--> 197\u001b[0;31m             \u001b[0mprob_data\u001b[0m\u001b[0;34m.\u001b[0m\u001b[0msym_data\u001b[0m \u001b[0;34m=\u001b[0m \u001b[0mSymData\u001b[0m\u001b[0;34m(\u001b[0m\u001b[0mobjective\u001b[0m\u001b[0;34m,\u001b[0m \u001b[0mconstraints\u001b[0m\u001b[0;34m,\u001b[0m \u001b[0mself\u001b[0m\u001b[0;34m)\u001b[0m\u001b[0;34m\u001b[0m\u001b[0m\n\u001b[0m\u001b[1;32m    198\u001b[0m         \u001b[0;32mreturn\u001b[0m \u001b[0mprob_data\u001b[0m\u001b[0;34m.\u001b[0m\u001b[0msym_data\u001b[0m\u001b[0;34m\u001b[0m\u001b[0m\n\u001b[1;32m    199\u001b[0m \u001b[0;34m\u001b[0m\u001b[0m\n",
      "\u001b[0;32m~/Documents/Stanford/superscs/benchmark/lib/python3.6/site-packages/cvxpy-0.4.9-py3.6.egg/cvxpy/problems/problem_data/sym_data.py\u001b[0m in \u001b[0;36m__init__\u001b[0;34m(self, objective, constraints, solver)\u001b[0m\n\u001b[1;32m     53\u001b[0m         \u001b[0mself\u001b[0m\u001b[0;34m.\u001b[0m\u001b[0mconstr_map\u001b[0m \u001b[0;34m=\u001b[0m \u001b[0mself\u001b[0m\u001b[0;34m.\u001b[0m\u001b[0mfilter_constraints\u001b[0m\u001b[0;34m(\u001b[0m\u001b[0mconstraints\u001b[0m\u001b[0;34m)\u001b[0m\u001b[0;34m\u001b[0m\u001b[0m\n\u001b[1;32m     54\u001b[0m         \u001b[0mself\u001b[0m\u001b[0;34m.\u001b[0m\u001b[0mpresolve_status\u001b[0m \u001b[0;34m=\u001b[0m \u001b[0mself\u001b[0m\u001b[0;34m.\u001b[0m\u001b[0mpresolve\u001b[0m\u001b[0;34m(\u001b[0m\u001b[0mself\u001b[0m\u001b[0;34m.\u001b[0m\u001b[0mobjective\u001b[0m\u001b[0;34m,\u001b[0m \u001b[0mself\u001b[0m\u001b[0;34m.\u001b[0m\u001b[0mconstr_map\u001b[0m\u001b[0;34m)\u001b[0m\u001b[0;34m\u001b[0m\u001b[0m\n\u001b[0;32m---> 55\u001b[0;31m         \u001b[0mself\u001b[0m\u001b[0;34m.\u001b[0m\u001b[0mdims\u001b[0m \u001b[0;34m=\u001b[0m \u001b[0mself\u001b[0m\u001b[0;34m.\u001b[0m\u001b[0mformat_for_solver\u001b[0m\u001b[0;34m(\u001b[0m\u001b[0mself\u001b[0m\u001b[0;34m.\u001b[0m\u001b[0mconstr_map\u001b[0m\u001b[0;34m,\u001b[0m \u001b[0msolver\u001b[0m\u001b[0;34m)\u001b[0m\u001b[0;34m\u001b[0m\u001b[0m\n\u001b[0m\u001b[1;32m     56\u001b[0m \u001b[0;34m\u001b[0m\u001b[0m\n\u001b[1;32m     57\u001b[0m         \u001b[0mall_ineq\u001b[0m \u001b[0;34m=\u001b[0m \u001b[0mself\u001b[0m\u001b[0;34m.\u001b[0m\u001b[0mconstr_map\u001b[0m\u001b[0;34m[\u001b[0m\u001b[0ms\u001b[0m\u001b[0;34m.\u001b[0m\u001b[0mEQ\u001b[0m\u001b[0;34m]\u001b[0m \u001b[0;34m+\u001b[0m \u001b[0mself\u001b[0m\u001b[0;34m.\u001b[0m\u001b[0mconstr_map\u001b[0m\u001b[0;34m[\u001b[0m\u001b[0ms\u001b[0m\u001b[0;34m.\u001b[0m\u001b[0mLEQ\u001b[0m\u001b[0;34m]\u001b[0m\u001b[0;34m\u001b[0m\u001b[0m\n",
      "\u001b[0;32m~/Documents/Stanford/superscs/benchmark/lib/python3.6/site-packages/cvxpy-0.4.9-py3.6.egg/cvxpy/problems/problem_data/sym_data.py\u001b[0m in \u001b[0;36mformat_for_solver\u001b[0;34m(constr_map, solver)\u001b[0m\n\u001b[1;32m    179\u001b[0m                 \u001b[0;32mfor\u001b[0m \u001b[0mconstr\u001b[0m \u001b[0;32min\u001b[0m \u001b[0mconstr_map\u001b[0m\u001b[0;34m[\u001b[0m\u001b[0mconstr_type\u001b[0m\u001b[0;34m]\u001b[0m\u001b[0;34m:\u001b[0m\u001b[0;34m\u001b[0m\u001b[0m\n\u001b[1;32m    180\u001b[0m                     constr.format(constr_map[s.EQ], constr_map[s.LEQ],\n\u001b[0;32m--> 181\u001b[0;31m                                   dims, solver)\n\u001b[0m\u001b[1;32m    182\u001b[0m \u001b[0;34m\u001b[0m\u001b[0m\n\u001b[1;32m    183\u001b[0m         \u001b[0;32mreturn\u001b[0m \u001b[0mdims\u001b[0m\u001b[0;34m\u001b[0m\u001b[0m\n",
      "\u001b[0;32m~/Documents/Stanford/superscs/benchmark/lib/python3.6/site-packages/cvxpy-0.4.9-py3.6.egg/cvxpy/constraints/semidefinite.py\u001b[0m in \u001b[0;36mformat\u001b[0;34m(self, eq_constr, leq_constr, dims, solver)\u001b[0m\n\u001b[1;32m     65\u001b[0m         \u001b[0;32melse\u001b[0m\u001b[0;34m:\u001b[0m\u001b[0;34m\u001b[0m\u001b[0m\n\u001b[1;32m     66\u001b[0m             raise SolverError(\n\u001b[0;32m---> 67\u001b[0;31m                 \u001b[0;34m\"Solver does not support positive semidefinite cone.\"\u001b[0m\u001b[0;34m\u001b[0m\u001b[0m\n\u001b[0m\u001b[1;32m     68\u001b[0m             )\n\u001b[1;32m     69\u001b[0m \u001b[0;34m\u001b[0m\u001b[0m\n",
      "\u001b[0;31mSolverError\u001b[0m: Solver does not support positive semidefinite cone."
     ]
    }
   ],
   "source": [
    "problemID = \"covsel_0\"\n",
    "\n",
    "import cvxpy as cp\n",
    "import numpy as np\n",
    "import scipy as sp\n",
    "\n",
    "# Variable declarations\n",
    "\n",
    "np.random.seed(0)\n",
    "\n",
    "m = 100\n",
    "n = 200\n",
    "lam = float(0.1)\n",
    "\n",
    "import scipy.sparse as sps\n",
    "\n",
    "A = sps.rand(n,n, 0.01)\n",
    "A = np.asarray(A.T.dot(A).todense() + 0.1*np.eye(n))\n",
    "L = np.linalg.cholesky(np.linalg.inv(A))\n",
    "X = np.random.randn(m,n).dot(L.T)\n",
    "S = X.T.dot(X)/m\n",
    "W = np.ones((n,n)) - np.eye(n)\n",
    "\n",
    "Theta = cp.Variable(n,n)\n",
    "\n",
    "\n",
    "# Problem construction\n",
    "prob = None\n",
    "opt_val = None\n",
    "\n",
    "prob = cp.Problem(cp.Minimize(\n",
    "        lam*cp.norm1(cp.mul_elemwise(W,Theta)) +\n",
    "        cp.sum_entries(cp.mul_elemwise(S,Theta)) -\n",
    "        cp.log_det(Theta)))\n",
    "\n",
    "\n",
    "# For debugging individual problems:\n",
    "if __name__ == \"__main__\":\n",
    "    prob.solve(solver=\"SUPERSCS\")\n",
    "    print(\"status:\", prob.status)\n",
    "    print(\"optimal value:\", prob.value)\n",
    "    print(\"true optimal value:\", opt_val)"
   ]
  },
  {
   "cell_type": "code",
   "execution_count": 71,
   "metadata": {},
   "outputs": [],
   "source": [
    "# Dumb Least Squares SCS > SUPERSCS\n",
    "n = 80\n",
    "m = 100\n",
    "np.random.seed(1)\n",
    "\n",
    "x = cp.Variable(n)\n",
    "x_0 = np.random.randn(n)\n",
    "A = np.random.randn(m, n)\n",
    "b = A.dot(x_0) + 0.5*np.random.randn(m)\n",
    "\n",
    "\n",
    "# Problem construction\n",
    "prob = None\n",
    "opt_val = None\n",
    "\n",
    "objective = cp.Minimize(cp.sum_squares(A*x - b))\n",
    "prob = cp.Problem(objective)"
   ]
  },
  {
   "cell_type": "code",
   "execution_count": 74,
   "metadata": {
    "collapsed": true
   },
   "outputs": [],
   "source": [
    "# Basis Pursuit SCS > SUPERSCS\n",
    "\n",
    "import cvxpy as cp\n",
    "import numpy as np\n",
    "import scipy as sp\n",
    "\n",
    "# Variable declarations\n",
    "\n",
    "import scipy.sparse as sps\n",
    "n = 300\n",
    "m = 100\n",
    "np.random.seed(0)\n",
    "\n",
    "x = cp.Variable(n)\n",
    "A = np.random.rand(m, n)\n",
    "x0 = sps.rand(n, 1, 0.1)\n",
    "\n",
    "b = A*x0\n",
    "\n",
    "\n",
    "# Problem construction\n",
    "prob = None\n",
    "opt_val = None\n",
    "\n",
    "prob = cp.Problem(cp.Minimize(cp.norm1(x)), [A*x == b])\n"
   ]
  },
  {
   "cell_type": "code",
   "execution_count": 85,
   "metadata": {
    "collapsed": true
   },
   "outputs": [],
   "source": [
    "# lp_1 SUPERSCS > SCS\n",
    "m = 30\n",
    "n = 300\n",
    "np.random.seed(1)\n",
    "\n",
    "A = np.random.rand(m, n)\n",
    "\n",
    "y = (np.random.rand(n) - 0.5)\n",
    "x_hat = -np.select([y < 0], [y])\n",
    "Lambda = np.select([y >= 0], [y]) # x_hat^T Lambda = 0\n",
    "\n",
    "mu = np.random.rand(m)\n",
    "c = Lambda - A.T.dot(mu)\n",
    "b = A.dot(x_hat)\n",
    "x = cp.Variable(n)\n",
    "\n",
    "\n",
    "# Problem construction\n",
    "prob = None\n",
    "opt_val = None\n",
    "\n",
    "objective = cp.Minimize(c*x)\n",
    "constraints = [A*x == b, x >= 0]\n",
    "\n",
    "prob = cp.Problem(objective, constraints)"
   ]
  },
  {
   "cell_type": "code",
   "execution_count": 96,
   "metadata": {
    "collapsed": true
   },
   "outputs": [],
   "source": [
    "# chebyshev_0 SUPERSCS > SCS\n",
    "import cvxpy as cp\n",
    "import numpy as np\n",
    "import scipy as sp\n",
    "\n",
    "# Variable declarations\n",
    "\n",
    "def normalized_data_matrix(m, n, mu):\n",
    "    if mu == 1:\n",
    "        # dense\n",
    "        A = np.random.randn(m, n)\n",
    "        A /= np.sqrt(np.sum(A**2, 0))\n",
    "    else:\n",
    "        # sparse\n",
    "        A = sp.rand(m, n, mu)\n",
    "        A.data = np.random.randn(A.nnz)\n",
    "        N = A.copy()\n",
    "        N.data = N.data**2\n",
    "        A = A*sp.diags([1 / np.sqrt(np.ravel(N.sum(axis=0)))], [0])\n",
    "\n",
    "    return A\n",
    "\n",
    "np.random.seed(0)\n",
    "m = 100\n",
    "n = 200\n",
    "k = 10\n",
    "A = [normalized_data_matrix(m,n,1) for i in range(k)]\n",
    "B = normalized_data_matrix(k,n,1)\n",
    "c = np.random.rand(k)\n",
    "\n",
    "x = cp.Variable(n)\n",
    "t = cp.Variable(k)\n",
    "\n",
    "\n",
    "# Problem construction\n",
    "prob = None\n",
    "opt_val = None\n",
    "\n",
    "\n",
    "f = cp.max_entries(t+cp.abs(B*x-c))\n",
    "C = []\n",
    "for i in range(k):\n",
    "    C.append(cp.pnorm(A[i]*x, 2) <= t[i])\n",
    "\n",
    "prob = cp.Problem(cp.Minimize(f), C)"
   ]
  },
  {
   "cell_type": "code",
   "execution_count": 101,
   "metadata": {
    "collapsed": true
   },
   "outputs": [],
   "source": [
    "# least_abs_dev_0 SUPERSCS > SCS\n",
    "\n",
    "import cvxpy as cp\n",
    "import numpy as np\n",
    "import scipy as sp\n",
    "\n",
    "# Variable declarations\n",
    "\n",
    "import scipy.sparse as sps\n",
    "\n",
    "np.random.seed(0)\n",
    "m = 5000\n",
    "n = 200\n",
    "\n",
    "A = np.random.randn(m,n);\n",
    "A = A*sps.diags([1 / np.sqrt(np.sum(A**2, 0))], [0])\n",
    "b = A.dot(10*np.random.randn(n))\n",
    "\n",
    "k = max(m//50, 1)\n",
    "idx = np.random.randint(0, m, k)\n",
    "b[idx] += 100*np.random.randn(k)\n",
    "\n",
    "x = cp.Variable(n)\n",
    "\n",
    "\n",
    "# Problem construction\n",
    "prob = None\n",
    "opt_val = None\n",
    "\n",
    "prob = cp.Problem(cp.Minimize(cp.norm1(A*x - b)))"
   ]
  },
  {
   "cell_type": "code",
   "execution_count": 108,
   "metadata": {},
   "outputs": [
    {
     "name": "stdout",
     "output_type": "stream",
     "text": [
      "solve time 4.381547678\n",
      "status optimal\n",
      "opt_val 7094.74672291801\n"
     ]
    }
   ],
   "source": [
    "results = prob.solve(solver = \"SUPERSCS\", verbose = True, eps = 1e-5)\n",
    "print(\"solve time\", prob.solver_stats.solve_time)\n",
    "print(\"status\", prob.status)\n",
    "print(\"opt_val\", prob.value)"
   ]
  },
  {
   "cell_type": "code",
   "execution_count": 106,
   "metadata": {},
   "outputs": [
    {
     "name": "stdout",
     "output_type": "stream",
     "text": [
      "----------------------------------------------------------------------------\n",
      "\tSCS v1.2.6 - Splitting Conic Solver\n",
      "\t(c) Brendan O'Donoghue, Stanford University, 2012-2016\n",
      "----------------------------------------------------------------------------\n",
      "Lin-sys: sparse-indirect, nnz in A = 2010000, CG tol ~ 1/iter^(2.00)\n",
      "eps = 1.00e-05, alpha = 1.50, max_iters = 2500, normalize = 1, scale = 1.00\n",
      "Variables n = 5200, constraints m = 10000\n",
      "Cones:\tlinear vars: 10000\n",
      "Setup time: 3.31e-01s\n",
      "----------------------------------------------------------------------------\n",
      " Iter | pri res | dua res | rel gap | pri obj | dua obj | kap/tau | time (s)\n",
      "----------------------------------------------------------------------------\n",
      "     0|      inf       inf       nan      -inf       inf       inf  1.53e-01 \n",
      "    60| 1.01e-06  1.10e-06  7.52e-08  7.09e+03  7.09e+03  4.17e-12  1.70e+00 \n",
      "----------------------------------------------------------------------------\n",
      "Status: Solved\n",
      "Timing: Solve time: 1.70e+00s\n",
      "\tLin-sys: avg # CG iterations: 1.62, avg solve time: 2.71e-02s\n",
      "\tCones: avg projection time: 6.73e-06s\n",
      "----------------------------------------------------------------------------\n",
      "Error metrics:\n",
      "dist(s, K) = 3.3005e-15, dist(y, K*) = 0.0000e+00, s'y/|s||y| = 3.6772e-19\n",
      "|Ax + s - b|_2 / (1 + |b|_2) = 1.0082e-06\n",
      "|A'y + c|_2 / (1 + |c|_2) = 1.1022e-06\n",
      "|c'x + b'y| / (1 + |c'x| + |b'y|) = 7.5206e-08\n",
      "----------------------------------------------------------------------------\n",
      "c'x = 7094.7268, -b'y = 7094.7257\n",
      "============================================================================\n",
      "solve time 1.702948151\n",
      "status optimal\n",
      "opt_val 7094.726784189562\n"
     ]
    }
   ],
   "source": [
    "prob.solve(solver = \"SCS\", verbose = True, eps = 1e-5)\n",
    "print(\"solve time\", prob.solver_stats.solve_time)\n",
    "print(\"status\", prob.status)\n",
    "print(\"opt_val\", prob.value)"
   ]
  },
  {
   "cell_type": "code",
   "execution_count": 107,
   "metadata": {},
   "outputs": [
    {
     "name": "stdout",
     "output_type": "stream",
     "text": [
      "Problem\n",
      "  Name                   :                 \n",
      "  Objective sense        : min             \n",
      "  Type                   : LO (linear optimization problem)\n",
      "  Constraints            : 10000           \n",
      "  Cones                  : 0               \n",
      "  Scalar variables       : 5200            \n",
      "  Matrix variables       : 0               \n",
      "  Integer variables      : 0               \n",
      "\n",
      "Optimizer started.\n",
      "Interior-point optimizer started.\n",
      "Presolve started.\n",
      "Linear dependency checker started.\n",
      "Linear dependency checker terminated.\n",
      "Eliminator started.\n",
      "Freed constraints in eliminator : 0\n",
      "Eliminator terminated.\n",
      "Eliminator started.\n",
      "Freed constraints in eliminator : 0\n",
      "Eliminator terminated.\n",
      "Eliminator - tries                  : 2                 time                   : 0.00            \n",
      "Lin. dep.  - tries                  : 1                 time                   : 0.01            \n",
      "Lin. dep.  - number                 : 0               \n",
      "Presolve terminated. Time: 0.80    \n",
      "Optimizer  - threads                : 4               \n",
      "Optimizer  - solved problem         : the dual        \n",
      "Optimizer  - Constraints            : 222\n",
      "Optimizer  - Cones                  : 0\n",
      "Optimizer  - Scalar variables       : 5022              conic                  : 0               \n",
      "Optimizer  - Semi-definite variables: 0                 scalarized             : 0               \n",
      "Factor     - setup time             : 0.08              dense det. time        : 0.00            \n",
      "Factor     - ML order time          : 0.00              GP order time          : 0.00            \n",
      "Factor     - nonzeros before factor : 2.45e+04          after factor           : 2.45e+04        \n",
      "Factor     - dense dim.             : 0                 flops                  : 2.08e+08        \n",
      "ITE PFEAS    DFEAS    GFEAS    PRSTATUS   POBJ              DOBJ              MU       TIME  \n",
      "0   2.2e+01  3.3e+01  2.1e+01  1.00e+00   2.045970473e+02   -2.045970473e+02  1.0e+00  1.01  \n",
      "1   1.0e+00  6.5e+01  4.8e+03  0.00e+00   6.062287770e+04   3.283865716e+04   1.1e+01  1.06  \n",
      "2   2.4e-01  1.6e+01  1.2e+03  1.67e+00   1.423111028e+04   1.056501011e+04   2.6e+00  1.10  \n",
      "3   4.2e-02  2.7e+00  2.0e+02  1.86e+00   7.932342549e+03   7.502840434e+03   4.4e-01  1.13  \n",
      "4   1.5e-04  9.6e-03  7.1e-01  1.08e+00   7.097551619e+03   7.096082297e+03   1.6e-03  1.16  \n",
      "5   1.5e-08  9.6e-07  7.1e-05  1.00e+00   7.094726502e+03   7.094726355e+03   1.6e-07  1.18  \n",
      "Basis identification started.\n",
      "Primal basis identification phase started.\n",
      "ITER      TIME\n",
      "2500      0.41    \n",
      "4876      0.87    \n",
      "Primal basis identification phase terminated. Time: 0.87\n",
      "Dual basis identification phase started.\n",
      "ITER      TIME\n",
      "0         0.00    \n",
      "Dual basis identification phase terminated. Time: 0.00\n",
      "Dual simplex reoptimization started.\n",
      "ITER      DEGITER(%)  PFEAS       DFEAS       POBJ                  DOBJ                  TIME\n",
      "0         0.00        0.00e+00    NA          7.094726220411e+03    NA                    0.02    \n",
      "2500      84.69       0.00e+00    NA          7.094724959452e+03    NA                    4.22    \n",
      "4731      86.43       0.00e+00    NA          7.094761920651e+03    NA                    7.88    \n",
      "Dual simplex reoptimization terminated. Time: 7.88    \n",
      "Simplex reoptimization terminated. Time: 7.91    \n",
      "Basis identification terminated. Time: 8.89\n",
      "Interior-point optimizer terminated. Time: 10.13. \n",
      "\n",
      "Optimizer terminated. Time: 10.23   \n",
      "\n",
      "Interior-point solution summary\n",
      "  Problem status  : PRIMAL_AND_DUAL_FEASIBLE\n",
      "  Solution status : OPTIMAL\n",
      "  Primal.  obj: 7.0947265175e+03    nrm: 2e+02    Viol.  con: 3e-08    var: 0e+00  \n",
      "  Dual.    obj: 7.0947262852e+03    nrm: 1e+00    Viol.  con: 3e-08    var: 3e-08  \n",
      "\n",
      "Basic solution summary\n",
      "  Problem status  : PRIMAL_AND_DUAL_FEASIBLE\n",
      "  Solution status : OPTIMAL\n",
      "  Primal.  obj: 7.0947262193e+03    nrm: 2e+02    Viol.  con: 2e-11    var: 0e+00  \n",
      "  Dual.    obj: 7.0947262193e+03    nrm: 1e+00    Viol.  con: 0e+00    var: 2e-14  \n",
      "solve time 10.23019814491272\n",
      "status optimal\n",
      "opt_val 7094.726517494272\n"
     ]
    }
   ],
   "source": [
    "prob.solve(solver = \"MOSEK\", verbose = True)\n",
    "print(\"solve time\", prob.solver_stats.solve_time)\n",
    "print(\"status\", prob.status)\n",
    "print(\"opt_val\", prob.value)"
   ]
  },
  {
   "cell_type": "code",
   "execution_count": 15,
   "metadata": {},
   "outputs": [],
   "source": [
    "import inspect"
   ]
  },
  {
   "cell_type": "code",
   "execution_count": 17,
   "metadata": {},
   "outputs": [
    {
     "data": {
      "text/plain": [
       "2"
      ]
     },
     "execution_count": 17,
     "metadata": {},
     "output_type": "execute_result"
    }
   ],
   "source": [
    "superscs.solve.__code__.co_argcount"
   ]
  },
  {
   "cell_type": "code",
   "execution_count": 124,
   "metadata": {},
   "outputs": [
    {
     "name": "stdout",
     "output_type": "stream",
     "text": [
      "False\n",
      "False\n",
      "False\n",
      "False\n",
      "False\n",
      "False\n",
      "False\n",
      "False\n",
      "False\n",
      "True\n"
     ]
    }
   ],
   "source": [
    "for constr in prob.canonicalize()[1]:\n",
    "    print(isinstance(constr, cp.constraints.exponential.ExpCone))\n"
   ]
  },
  {
   "cell_type": "code",
   "execution_count": 134,
   "metadata": {
    "collapsed": true
   },
   "outputs": [],
   "source": [
    "X = cp.Semidef(10)\n",
    "A = np.eye(10)\n",
    "Y = cp.Int(3)\n",
    "b = np.array([4,5,6])\n",
    "Z = cp.Bool(2)\n",
    "c = np.array([0, 1])"
   ]
  },
  {
   "cell_type": "code",
   "execution_count": 143,
   "metadata": {},
   "outputs": [],
   "source": [
    "testprob = cp.Problem(cp.Minimize(0), [X >> A, Y == b,  Z == c])"
   ]
  },
  {
   "cell_type": "code",
   "execution_count": 144,
   "metadata": {},
   "outputs": [
    {
     "data": {
      "text/plain": [
       "(LinOp(type='scalar_const', size=(1, 1), args=[], data=0),\n",
       " [<cvxpy.constraints.semidefinite.SDP at 0x116e5a4a8>,\n",
       "  <cvxpy.constraints.semidefinite.SDP at 0x1155e1438>,\n",
       "  <cvxpy.constraints.int_constr.IntConstr at 0x1155cb128>,\n",
       "  LinEqConstr(expr=LinOp(type='sum', size=(3, 1), args=[LinOp(type='variable', size=(3, 1), args=[], data=288), LinOp(type='dense_const', size=(3, 1), args=[], data=matrix([[-4.],\n",
       "        [-5.],\n",
       "        [-6.]]))], data=None), constr_id=308, size=(3, 1)),\n",
       "  <cvxpy.constraints.bool_constr.BoolConstr at 0x116e5a438>,\n",
       "  LinEqConstr(expr=LinOp(type='sum', size=(2, 1), args=[LinOp(type='variable', size=(2, 1), args=[], data=289), LinOp(type='dense_const', size=(2, 1), args=[], data=matrix([[-0.],\n",
       "        [-1.]]))], data=None), constr_id=310, size=(2, 1))])"
      ]
     },
     "execution_count": 144,
     "metadata": {},
     "output_type": "execute_result"
    }
   ],
   "source": [
    "testprob.canonicalize()"
   ]
  },
  {
   "cell_type": "code",
   "execution_count": 142,
   "metadata": {},
   "outputs": [
    {
     "ename": "SolverError",
     "evalue": "The solver SCS cannot solve the problem because it cannot solve mixed-integer problems.",
     "output_type": "error",
     "traceback": [
      "\u001b[0;31m---------------------------------------------------------------------------\u001b[0m",
      "\u001b[0;31mSolverError\u001b[0m                               Traceback (most recent call last)",
      "\u001b[0;32m<ipython-input-142-1c17e9303f48>\u001b[0m in \u001b[0;36m<module>\u001b[0;34m()\u001b[0m\n\u001b[0;32m----> 1\u001b[0;31m \u001b[0mtestprob\u001b[0m\u001b[0;34m.\u001b[0m\u001b[0msolve\u001b[0m\u001b[0;34m(\u001b[0m\u001b[0msolver\u001b[0m \u001b[0;34m=\u001b[0m \u001b[0;34m\"SCS\"\u001b[0m\u001b[0;34m)\u001b[0m\u001b[0;34m\u001b[0m\u001b[0m\n\u001b[0m",
      "\u001b[0;32m~/Documents/Stanford/superscs/benchmark/lib/python3.6/site-packages/cvxpy-0.4.9-py3.6.egg/cvxpy/problems/problem.py\u001b[0m in \u001b[0;36msolve\u001b[0;34m(self, *args, **kwargs)\u001b[0m\n\u001b[1;32m    207\u001b[0m             \u001b[0;32mreturn\u001b[0m \u001b[0mfunc\u001b[0m\u001b[0;34m(\u001b[0m\u001b[0mself\u001b[0m\u001b[0;34m,\u001b[0m \u001b[0;34m*\u001b[0m\u001b[0margs\u001b[0m\u001b[0;34m,\u001b[0m \u001b[0;34m**\u001b[0m\u001b[0mkwargs\u001b[0m\u001b[0;34m)\u001b[0m\u001b[0;34m\u001b[0m\u001b[0m\n\u001b[1;32m    208\u001b[0m         \u001b[0;32melse\u001b[0m\u001b[0;34m:\u001b[0m\u001b[0;34m\u001b[0m\u001b[0m\n\u001b[0;32m--> 209\u001b[0;31m             \u001b[0;32mreturn\u001b[0m \u001b[0mself\u001b[0m\u001b[0;34m.\u001b[0m\u001b[0m_solve\u001b[0m\u001b[0;34m(\u001b[0m\u001b[0;34m*\u001b[0m\u001b[0margs\u001b[0m\u001b[0;34m,\u001b[0m \u001b[0;34m**\u001b[0m\u001b[0mkwargs\u001b[0m\u001b[0;34m)\u001b[0m\u001b[0;34m\u001b[0m\u001b[0m\n\u001b[0m\u001b[1;32m    210\u001b[0m \u001b[0;34m\u001b[0m\u001b[0m\n\u001b[1;32m    211\u001b[0m     \u001b[0;34m@\u001b[0m\u001b[0mclassmethod\u001b[0m\u001b[0;34m\u001b[0m\u001b[0m\n",
      "\u001b[0;32m~/Documents/Stanford/superscs/benchmark/lib/python3.6/site-packages/cvxpy-0.4.9-py3.6.egg/cvxpy/problems/problem.py\u001b[0m in \u001b[0;36m_solve\u001b[0;34m(self, solver, ignore_dcp, warm_start, verbose, parallel, **kwargs)\u001b[0m\n\u001b[1;32m    319\u001b[0m         \u001b[0;32melif\u001b[0m \u001b[0msolver\u001b[0m \u001b[0;32min\u001b[0m \u001b[0mSOLVERS\u001b[0m\u001b[0;34m:\u001b[0m\u001b[0;34m\u001b[0m\u001b[0m\n\u001b[1;32m    320\u001b[0m             \u001b[0msolver\u001b[0m \u001b[0;34m=\u001b[0m \u001b[0mSOLVERS\u001b[0m\u001b[0;34m[\u001b[0m\u001b[0msolver\u001b[0m\u001b[0;34m]\u001b[0m\u001b[0;34m\u001b[0m\u001b[0m\n\u001b[0;32m--> 321\u001b[0;31m             \u001b[0msolver\u001b[0m\u001b[0;34m.\u001b[0m\u001b[0mvalidate_solver\u001b[0m\u001b[0;34m(\u001b[0m\u001b[0mconstraints\u001b[0m\u001b[0;34m)\u001b[0m\u001b[0;34m\u001b[0m\u001b[0m\n\u001b[0m\u001b[1;32m    322\u001b[0m         \u001b[0;32melse\u001b[0m\u001b[0;34m:\u001b[0m\u001b[0;34m\u001b[0m\u001b[0m\n\u001b[1;32m    323\u001b[0m             \u001b[0;32mraise\u001b[0m \u001b[0mSolverError\u001b[0m\u001b[0;34m(\u001b[0m\u001b[0;34m\"Unknown solver.\"\u001b[0m\u001b[0;34m)\u001b[0m\u001b[0;34m\u001b[0m\u001b[0m\n",
      "\u001b[0;32m~/Documents/Stanford/superscs/benchmark/lib/python3.6/site-packages/cvxpy-0.4.9-py3.6.egg/cvxpy/problems/solvers/solver.py\u001b[0m in \u001b[0;36mvalidate_solver\u001b[0;34m(self, constraints)\u001b[0m\n\u001b[1;32m    127\u001b[0m \u001b[0;34m\u001b[0m\u001b[0m\n\u001b[1;32m    128\u001b[0m         \u001b[0;32mif\u001b[0m \u001b[0;34m(\u001b[0m\u001b[0mconstr_map\u001b[0m\u001b[0;34m[\u001b[0m\u001b[0ms\u001b[0m\u001b[0;34m.\u001b[0m\u001b[0mBOOL\u001b[0m\u001b[0;34m]\u001b[0m \u001b[0;32mor\u001b[0m \u001b[0mconstr_map\u001b[0m\u001b[0;34m[\u001b[0m\u001b[0ms\u001b[0m\u001b[0;34m.\u001b[0m\u001b[0mINT\u001b[0m\u001b[0;34m]\u001b[0m\u001b[0;34m)\u001b[0m \u001b[0;32mand\u001b[0m \u001b[0;32mnot\u001b[0m \u001b[0mself\u001b[0m\u001b[0;34m.\u001b[0m\u001b[0mMIP_CAPABLE\u001b[0m\u001b[0;34m:\u001b[0m\u001b[0;34m\u001b[0m\u001b[0m\n\u001b[0;32m--> 129\u001b[0;31m             \u001b[0mself\u001b[0m\u001b[0;34m.\u001b[0m\u001b[0m_reject_problem\u001b[0m\u001b[0;34m(\u001b[0m\u001b[0;34m\"it cannot solve mixed-integer problems\"\u001b[0m\u001b[0;34m)\u001b[0m\u001b[0;34m\u001b[0m\u001b[0m\n\u001b[0m\u001b[1;32m    130\u001b[0m         \u001b[0;32melif\u001b[0m \u001b[0mconstr_map\u001b[0m\u001b[0;34m[\u001b[0m\u001b[0ms\u001b[0m\u001b[0;34m.\u001b[0m\u001b[0mSDP\u001b[0m\u001b[0;34m]\u001b[0m \u001b[0;32mand\u001b[0m \u001b[0;32mnot\u001b[0m \u001b[0mself\u001b[0m\u001b[0;34m.\u001b[0m\u001b[0mSDP_CAPABLE\u001b[0m\u001b[0;34m:\u001b[0m\u001b[0;34m\u001b[0m\u001b[0m\n\u001b[1;32m    131\u001b[0m             \u001b[0mself\u001b[0m\u001b[0;34m.\u001b[0m\u001b[0m_reject_problem\u001b[0m\u001b[0;34m(\u001b[0m\u001b[0;34m\"it cannot solve semidefinite problems\"\u001b[0m\u001b[0;34m)\u001b[0m\u001b[0;34m\u001b[0m\u001b[0m\n",
      "\u001b[0;32m~/Documents/Stanford/superscs/benchmark/lib/python3.6/site-packages/cvxpy-0.4.9-py3.6.egg/cvxpy/problems/solvers/solver.py\u001b[0m in \u001b[0;36m_reject_problem\u001b[0;34m(self, reason)\u001b[0m\n\u001b[1;32m    154\u001b[0m             \u001b[0mself\u001b[0m\u001b[0;34m.\u001b[0m\u001b[0mname\u001b[0m\u001b[0;34m(\u001b[0m\u001b[0;34m)\u001b[0m\u001b[0;34m,\u001b[0m \u001b[0mreason\u001b[0m\u001b[0;34m\u001b[0m\u001b[0m\n\u001b[1;32m    155\u001b[0m         )\n\u001b[0;32m--> 156\u001b[0;31m         \u001b[0;32mraise\u001b[0m \u001b[0mSolverError\u001b[0m\u001b[0;34m(\u001b[0m\u001b[0mmessage\u001b[0m\u001b[0;34m)\u001b[0m\u001b[0;34m\u001b[0m\u001b[0m\n\u001b[0m\u001b[1;32m    157\u001b[0m \u001b[0;34m\u001b[0m\u001b[0m\n\u001b[1;32m    158\u001b[0m     \u001b[0;32mdef\u001b[0m \u001b[0mvalidate_cache\u001b[0m\u001b[0;34m(\u001b[0m\u001b[0mself\u001b[0m\u001b[0;34m,\u001b[0m \u001b[0mobjective\u001b[0m\u001b[0;34m,\u001b[0m \u001b[0mconstraints\u001b[0m\u001b[0;34m,\u001b[0m \u001b[0mcached_data\u001b[0m\u001b[0;34m)\u001b[0m\u001b[0;34m:\u001b[0m\u001b[0;34m\u001b[0m\u001b[0m\n",
      "\u001b[0;31mSolverError\u001b[0m: The solver SCS cannot solve the problem because it cannot solve mixed-integer problems."
     ]
    }
   ],
   "source": []
  },
  {
   "cell_type": "code",
   "execution_count": 146,
   "metadata": {
    "collapsed": true
   },
   "outputs": [],
   "source": [
    "from cvxpy.constraints.soc_axis import SOC_Axis\n",
    "from cvxpy.constraints.second_order import SOC"
   ]
  },
  {
   "cell_type": "code",
   "execution_count": 153,
   "metadata": {},
   "outputs": [
    {
     "data": {
      "text/plain": [
       "True"
      ]
     },
     "execution_count": 153,
     "metadata": {},
     "output_type": "execute_result"
    }
   ],
   "source": [
    "issubclass(SOC_Axis, SOC)"
   ]
  },
  {
   "cell_type": "code",
   "execution_count": null,
   "metadata": {
    "collapsed": true
   },
   "outputs": [],
   "source": []
  }
 ],
 "metadata": {
  "kernelspec": {
   "display_name": "Python 3",
   "language": "python",
   "name": "python3"
  },
  "language_info": {
   "codemirror_mode": {
    "name": "ipython",
    "version": 3
   },
   "file_extension": ".py",
   "mimetype": "text/x-python",
   "name": "python",
   "nbconvert_exporter": "python",
   "pygments_lexer": "ipython3",
   "version": "3.6.1"
  }
 },
 "nbformat": 4,
 "nbformat_minor": 2
}
