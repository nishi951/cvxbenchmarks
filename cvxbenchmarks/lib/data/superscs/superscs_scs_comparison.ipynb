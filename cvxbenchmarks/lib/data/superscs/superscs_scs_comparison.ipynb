{
 "cells": [
  {
   "cell_type": "code",
   "execution_count": 3,
   "metadata": {
    "collapsed": true
   },
   "outputs": [],
   "source": [
    "import cvxpy as cp\n"
   ]
  },
  {
   "cell_type": "code",
   "execution_count": 2,
   "metadata": {},
   "outputs": [
    {
     "data": {
      "text/plain": [
       "['ECOS', 'ECOS_BB', 'SCS', 'SUPERSCS', 'MOSEK', 'LS']"
      ]
     },
     "execution_count": 2,
     "metadata": {},
     "output_type": "execute_result"
    }
   ],
   "source": [
    "cp.installed_solvers()"
   ]
  },
  {
   "cell_type": "code",
   "execution_count": 8,
   "metadata": {
    "collapsed": true
   },
   "outputs": [],
   "source": [
    "# SuperSCS LASSO Benchmark\n",
    "\n",
    "import numpy as np\n",
    "import cvxpy as cp\n",
    "import scipy as sp\n",
    "\n",
    "import scipy.sparse as sps\n",
    "\n",
    "np.random.seed(0)\n",
    "# Variable declarations\n",
    "n = 10000\n",
    "m = 2000\n",
    "\n",
    "s = int(np.ceil(n/10))\n",
    "x_true = np.vstack((np.random.randn(s, 1), np.zeros((n-s, 1))))\n",
    "x_true = np.random.permutation(x_true)\n",
    "\n",
    "density = 0.1\n",
    "rcA = 0.1\n",
    "A = sps.random(m, n, density, data_rvs = np.random.randn)\n",
    "\n",
    "b = A*x_true + 0.1*np.random.randn(m, 1)\n",
    "mu = 1\n",
    "\n",
    "\n",
    "# Problem construction\n",
    "x = cp.Variable(n)\n",
    "\n",
    "prob = cp.Problem(cp.Minimize(0.5*cp.sum_squares(A*x) + mu*cp.norm1(x)))\n",
    "\n",
    "problems = {\"superscs_lasso\" : prob}\n",
    "\n"
   ]
  },
  {
   "cell_type": "code",
   "execution_count": 5,
   "metadata": {},
   "outputs": [
    {
     "ename": "TypeError",
     "evalue": "diag() takes 1 positional argument but 2 were given",
     "output_type": "error",
     "traceback": [
      "\u001b[0;31m---------------------------------------------------------------------------\u001b[0m",
      "\u001b[0;31mTypeError\u001b[0m                                 Traceback (most recent call last)",
      "\u001b[0;32m<ipython-input-5-726adbc4377e>\u001b[0m in \u001b[0;36m<module>\u001b[0;34m()\u001b[0m\n\u001b[1;32m      1\u001b[0m \u001b[0mZ\u001b[0m \u001b[0;34m=\u001b[0m \u001b[0mcp\u001b[0m\u001b[0;34m.\u001b[0m\u001b[0mVariable\u001b[0m\u001b[0;34m(\u001b[0m\u001b[0;36m10\u001b[0m\u001b[0;34m,\u001b[0m \u001b[0;36m10\u001b[0m\u001b[0;34m)\u001b[0m\u001b[0;34m\u001b[0m\u001b[0m\n\u001b[0;32m----> 2\u001b[0;31m \u001b[0mcp\u001b[0m\u001b[0;34m.\u001b[0m\u001b[0mdiag\u001b[0m\u001b[0;34m(\u001b[0m\u001b[0mZ\u001b[0m\u001b[0;34m,\u001b[0m \u001b[0;36m1\u001b[0m\u001b[0;34m)\u001b[0m\u001b[0;34m\u001b[0m\u001b[0m\n\u001b[0m",
      "\u001b[0;31mTypeError\u001b[0m: diag() takes 1 positional argument but 2 were given"
     ]
    }
   ],
   "source": [
    "Z = cp.Variable(10, 10)\n",
    "cp.diag(Z)"
   ]
  },
  {
   "cell_type": "code",
   "execution_count": 2,
   "metadata": {},
   "outputs": [
    {
     "name": "stdout",
     "output_type": "stream",
     "text": [
      "status: optimal\n",
      "optimal value: 314.57617500914205\n",
      "true optimal value: None\n"
     ]
    }
   ],
   "source": [
    "problemID = \"covsel_0\"\n",
    "\n",
    "import cvxpy as cp\n",
    "import numpy as np\n",
    "import scipy as sp\n",
    "\n",
    "# Variable declarations\n",
    "\n",
    "np.random.seed(0)\n",
    "\n",
    "m = 100\n",
    "n = 200\n",
    "lam = float(0.1)\n",
    "\n",
    "import scipy.sparse as sps\n",
    "\n",
    "A = sps.rand(n,n, 0.01)\n",
    "A = np.asarray(A.T.dot(A).todense() + 0.1*np.eye(n))\n",
    "L = np.linalg.cholesky(np.linalg.inv(A))\n",
    "X = np.random.randn(m,n).dot(L.T)\n",
    "S = X.T.dot(X)/m\n",
    "W = np.ones((n,n)) - np.eye(n)\n",
    "\n",
    "Theta = cp.Variable(n,n)\n",
    "\n",
    "\n",
    "# Problem construction\n",
    "prob = None\n",
    "opt_val = None\n",
    "\n",
    "prob = cp.Problem(cp.Minimize(\n",
    "        lam*cp.norm1(cp.mul_elemwise(W,Theta)) +\n",
    "        cp.sum_entries(cp.mul_elemwise(S,Theta)) -\n",
    "        cp.log_det(Theta)))\n",
    "\n",
    "\n",
    "# For debugging individual problems:\n",
    "if __name__ == \"__main__\":\n",
    "    prob.solve(solver=\"SCS\")\n",
    "    print(\"status:\", prob.status)\n",
    "    print(\"optimal value:\", prob.value)\n",
    "    print(\"true optimal value:\", opt_val)"
   ]
  },
  {
   "cell_type": "code",
   "execution_count": 5,
   "metadata": {
    "collapsed": true
   },
   "outputs": [],
   "source": [
    "# Dumb Least Squares SCS > SUPERSCS\n",
    "n = 80\n",
    "m = 100\n",
    "np.random.seed(1)\n",
    "\n",
    "x = cp.Variable(n)\n",
    "x_0 = np.random.randn(n)\n",
    "A = np.random.randn(m, n)\n",
    "b = A.dot(x_0) + 0.5*np.random.randn(m)\n",
    "\n",
    "\n",
    "# Problem construction\n",
    "prob = None\n",
    "opt_val = None\n",
    "\n",
    "objective = cp.Minimize(cp.sum_squares(A*x - b))\n",
    "prob = cp.Problem(objective)"
   ]
  },
  {
   "cell_type": "code",
   "execution_count": 6,
   "metadata": {
    "collapsed": true
   },
   "outputs": [],
   "source": [
    "# Basis Pursuit SCS > SUPERSCS\n",
    "\n",
    "import cvxpy as cp\n",
    "import numpy as np\n",
    "import scipy as sp\n",
    "\n",
    "# Variable declarations\n",
    "\n",
    "import scipy.sparse as sps\n",
    "n = 300\n",
    "m = 100\n",
    "np.random.seed(0)\n",
    "\n",
    "x = cp.Variable(n)\n",
    "A = np.random.rand(m, n)\n",
    "x0 = sps.rand(n, 1, 0.1)\n",
    "\n",
    "b = A*x0\n",
    "\n",
    "\n",
    "# Problem construction\n",
    "prob = None\n",
    "opt_val = None\n",
    "\n",
    "prob = cp.Problem(cp.Minimize(cp.norm1(x)), [A*x == b])\n"
   ]
  },
  {
   "cell_type": "code",
   "execution_count": 11,
   "metadata": {
    "collapsed": true
   },
   "outputs": [],
   "source": [
    "# lp_1 SUPERSCS > SCS\n",
    "m = 30\n",
    "n = 300\n",
    "np.random.seed(1)\n",
    "\n",
    "A = np.random.rand(m, n)\n",
    "\n",
    "y = (np.random.rand(n) - 0.5)\n",
    "x_hat = -np.select([y < 0], [y])\n",
    "Lambda = np.select([y >= 0], [y]) # x_hat^T Lambda = 0\n",
    "\n",
    "mu = np.random.rand(m)\n",
    "c = Lambda - A.T.dot(mu)\n",
    "b = A.dot(x_hat)\n",
    "x = cp.Variable(n)\n",
    "\n",
    "\n",
    "# Problem construction\n",
    "prob = None\n",
    "opt_val = None\n",
    "\n",
    "objective = cp.Minimize(c*x)\n",
    "constraints = [A*x == b, x >= 0]\n",
    "\n",
    "prob = cp.Problem(objective, constraints)"
   ]
  },
  {
   "cell_type": "code",
   "execution_count": 20,
   "metadata": {
    "collapsed": true
   },
   "outputs": [],
   "source": [
    "# chebyshev_0 SUPERSCS > SCS\n",
    "import cvxpy as cp\n",
    "import numpy as np\n",
    "import scipy as sp\n",
    "\n",
    "# Variable declarations\n",
    "\n",
    "def normalized_data_matrix(m, n, mu):\n",
    "    if mu == 1:\n",
    "        # dense\n",
    "        A = np.random.randn(m, n)\n",
    "        A /= np.sqrt(np.sum(A**2, 0))\n",
    "    else:\n",
    "        # sparse\n",
    "        A = sp.rand(m, n, mu)\n",
    "        A.data = np.random.randn(A.nnz)\n",
    "        N = A.copy()\n",
    "        N.data = N.data**2\n",
    "        A = A*sp.diags([1 / np.sqrt(np.ravel(N.sum(axis=0)))], [0])\n",
    "\n",
    "    return A\n",
    "\n",
    "np.random.seed(0)\n",
    "m = 100\n",
    "n = 200\n",
    "k = 10\n",
    "A = [normalized_data_matrix(m,n,1) for i in range(k)]\n",
    "B = normalized_data_matrix(k,n,1)\n",
    "c = np.random.rand(k)\n",
    "\n",
    "x = cp.Variable(n)\n",
    "t = cp.Variable(k)\n",
    "\n",
    "\n",
    "# Problem construction\n",
    "prob = None\n",
    "opt_val = None\n",
    "\n",
    "\n",
    "f = cp.max_entries(t+cp.abs(B*x-c))\n",
    "C = []\n",
    "for i in range(k):\n",
    "    C.append(cp.pnorm(A[i]*x, 2) <= t[i])\n",
    "\n",
    "prob = cp.Problem(cp.Minimize(f), C)"
   ]
  },
  {
   "cell_type": "code",
   "execution_count": 14,
   "metadata": {
    "collapsed": true
   },
   "outputs": [],
   "source": [
    "# least_abs_dev_0 SUPERSCS > SCS\n",
    "\n",
    "import cvxpy as cp\n",
    "import numpy as np\n",
    "import scipy as sp\n",
    "\n",
    "# Variable declarations\n",
    "\n",
    "import scipy.sparse as sps\n",
    "\n",
    "np.random.seed(0)\n",
    "m = 5000\n",
    "n = 200\n",
    "\n",
    "A = np.random.randn(m,n);\n",
    "A = A*sps.diags([1 / np.sqrt(np.sum(A**2, 0))], [0])\n",
    "b = A.dot(10*np.random.randn(n))\n",
    "\n",
    "k = max(m//50, 1)\n",
    "idx = np.random.randint(0, m, k)\n",
    "b[idx] += 100*np.random.randn(k)\n",
    "\n",
    "x = cp.Variable(n)\n",
    "\n",
    "\n",
    "# Problem construction\n",
    "prob = None\n",
    "opt_val = None\n",
    "\n",
    "prob = cp.Problem(cp.Minimize(cp.norm1(A*x - b)))"
   ]
  },
  {
   "cell_type": "code",
   "execution_count": 21,
   "metadata": {},
   "outputs": [
    {
     "name": "stdout",
     "output_type": "stream",
     "text": [
      "solve time 14.593498369999999\n",
      "status optimal_inaccurate\n",
      "opt_val 0.3259013420229464\n"
     ]
    }
   ],
   "source": [
    "results = prob.solve(solver = \"SUPERSCS\", verbose = True, eps = 1e-10)\n",
    "print(\"solve time\", prob.solver_stats.solve_time)\n",
    "print(\"status\", prob.status)\n",
    "print(\"opt_val\", prob.value)"
   ]
  },
  {
   "cell_type": "code",
   "execution_count": 22,
   "metadata": {},
   "outputs": [
    {
     "name": "stdout",
     "output_type": "stream",
     "text": [
      "----------------------------------------------------------------------------\n",
      "\tSCS v1.2.6 - Splitting Conic Solver\n",
      "\t(c) Brendan O'Donoghue, Stanford University, 2012-2016\n",
      "----------------------------------------------------------------------------\n",
      "Lin-sys: sparse-indirect, nnz in A = 204080, CG tol ~ 1/iter^(2.00)\n",
      "eps = 1.00e-10, alpha = 1.50, max_iters = 2500, normalize = 1, scale = 1.00\n",
      "Variables n = 231, constraints m = 1050\n",
      "Cones:\tlinear vars: 40\n",
      "\tsoc vars: 1010, soc blks: 10\n",
      "Setup time: 1.03e-02s\n",
      "----------------------------------------------------------------------------\n",
      " Iter | pri res | dua res | rel gap | pri obj | dua obj | kap/tau | time (s)\n",
      "----------------------------------------------------------------------------\n",
      "     0|      inf       inf       nan      -inf       inf       inf  3.03e-02 \n",
      "   100| 1.15e-06  2.60e-06  1.07e-07  3.26e-01  3.26e-01  3.50e-17  4.20e-01 \n",
      "   200| 2.99e-08  6.70e-08  6.54e-10  3.26e-01  3.26e-01  3.50e-17  5.87e-01 \n",
      "   300| 5.84e-10  2.16e-09  1.35e-10  3.26e-01  3.26e-01  3.50e-17  7.56e-01 \n",
      "   400| 2.28e-10  1.44e-10  1.37e-12  3.26e-01  3.26e-01  3.50e-17  9.31e-01 \n",
      "   500| 2.36e-10  1.67e-10  1.15e-13  3.26e-01  3.26e-01  3.50e-17  1.10e+00 \n",
      "   600| 2.36e-10  1.68e-10  8.40e-16  3.26e-01  3.26e-01  3.50e-17  1.27e+00 \n",
      "   700| 2.36e-10  1.69e-10  6.72e-17  3.26e-01  3.26e-01  3.50e-17  1.46e+00 \n",
      "   800| 2.36e-10  1.69e-10  0.00e+00  3.26e-01  3.26e-01  3.50e-17  1.62e+00 \n",
      "   900| 2.36e-10  1.69e-10  1.68e-16  3.26e-01  3.26e-01  3.50e-17  1.80e+00 \n",
      "  1000| 2.36e-10  1.69e-10  2.35e-16  3.26e-01  3.26e-01  3.50e-17  1.98e+00 \n",
      "  1100| 2.36e-10  1.69e-10  2.35e-16  3.26e-01  3.26e-01  3.50e-17  2.15e+00 \n",
      "  1200| 2.36e-10  1.69e-10  1.34e-16  3.26e-01  3.26e-01  3.50e-17  2.34e+00 \n",
      "  1300| 2.36e-10  1.69e-10  1.34e-16  3.26e-01  3.26e-01  3.50e-17  2.51e+00 \n",
      "  1400| 2.36e-10  1.69e-10  3.36e-16  3.26e-01  3.26e-01  3.50e-17  2.69e+00 \n",
      "  1500| 2.36e-10  1.69e-10  6.72e-17  3.26e-01  3.26e-01  3.50e-17  2.86e+00 \n",
      "  1600| 2.36e-10  1.69e-10  2.02e-16  3.26e-01  3.26e-01  3.50e-17  3.02e+00 \n",
      "  1700| 2.36e-10  1.69e-10  3.02e-16  3.26e-01  3.26e-01  3.50e-17  3.21e+00 \n",
      "  1800| 2.36e-10  1.69e-10  2.02e-16  3.26e-01  3.26e-01  3.50e-17  3.37e+00 \n",
      "  1900| 2.36e-10  1.69e-10  3.36e-17  3.26e-01  3.26e-01  3.50e-17  3.54e+00 \n",
      "  2000| 2.36e-10  1.69e-10  2.35e-16  3.26e-01  3.26e-01  3.50e-17  3.72e+00 \n",
      "  2100| 2.36e-10  1.69e-10  1.34e-16  3.26e-01  3.26e-01  3.50e-17  3.90e+00 \n",
      "  2200| 2.36e-10  1.69e-10  4.70e-16  3.26e-01  3.26e-01  3.50e-17  4.07e+00 \n",
      "  2300| 2.36e-10  1.69e-10  1.01e-16  3.26e-01  3.26e-01  3.50e-17  4.24e+00 \n",
      "  2400| 2.36e-10  1.69e-10  6.72e-16  3.26e-01  3.26e-01  3.50e-17  4.43e+00 \n",
      "  2500| 2.36e-10  1.69e-10  1.68e-16  3.26e-01  3.26e-01  3.50e-17  4.62e+00 \n",
      "----------------------------------------------------------------------------\n",
      "Status: Solved/Inaccurate\n",
      "Hit max_iters, solution may be inaccurate\n",
      "Timing: Solve time: 4.62e+00s\n",
      "\tLin-sys: avg # CG iterations: 1.16, avg solve time: 1.80e-03s\n",
      "\tCones: avg projection time: 2.11e-06s\n",
      "----------------------------------------------------------------------------\n",
      "Error metrics:\n",
      "dist(s, K) = 6.8950e-17, dist(y, K*) = 1.3878e-17, s'y/|s||y| = -7.1847e-18\n",
      "|Ax + s - b|_2 / (1 + |b|_2) = 2.3611e-10\n",
      "|A'y + c|_2 / (1 + |c|_2) = 1.6851e-10\n",
      "|c'x + b'y| / (1 + |c'x| + |b'y|) = 1.6803e-16\n",
      "----------------------------------------------------------------------------\n",
      "c'x = 0.3259, -b'y = 0.3259\n",
      "============================================================================\n",
      "solve time 4.622782179\n",
      "status optimal_inaccurate\n",
      "opt_val 0.32590134202294135\n"
     ]
    }
   ],
   "source": [
    "prob.solve(solver = \"SCS\", verbose = True, eps = 1e-10)\n",
    "print(\"solve time\", prob.solver_stats.solve_time)\n",
    "print(\"status\", prob.status)\n",
    "print(\"opt_val\", prob.value)"
   ]
  },
  {
   "cell_type": "code",
   "execution_count": 23,
   "metadata": {},
   "outputs": [
    {
     "name": "stdout",
     "output_type": "stream",
     "text": [
      "Problem\n",
      "  Name                   :                 \n",
      "  Objective sense        : min             \n",
      "  Type                   : CONIC (conic optimization problem)\n",
      "  Constraints            : 1050            \n",
      "  Cones                  : 10              \n",
      "  Scalar variables       : 1241            \n",
      "  Matrix variables       : 0               \n",
      "  Integer variables      : 0               \n",
      "\n",
      "Optimizer started.\n",
      "Conic interior-point optimizer started.\n",
      "Presolve started.\n",
      "Linear dependency checker started.\n",
      "Linear dependency checker terminated.\n",
      "Eliminator started.\n",
      "Freed constraints in eliminator : 10\n",
      "Eliminator terminated.\n",
      "Eliminator - tries                  : 1                 time                   : 0.00            \n",
      "Lin. dep.  - tries                  : 1                 time                   : 0.04            \n",
      "Lin. dep.  - number                 : 0               \n",
      "Presolve terminated. Time: 0.11    \n",
      "Optimizer  - threads                : 4               \n",
      "Optimizer  - solved problem         : the dual        \n",
      "Optimizer  - Constraints            : 211\n",
      "Optimizer  - Cones                  : 10\n",
      "Optimizer  - Scalar variables       : 1030              conic                  : 1010            \n",
      "Optimizer  - Semi-definite variables: 0                 scalarized             : 0               \n",
      "Factor     - setup time             : 0.02              dense det. time        : 0.00            \n",
      "Factor     - ML order time          : 0.00              GP order time          : 0.00            \n",
      "Factor     - nonzeros before factor : 2.23e+04          after factor           : 2.24e+04        \n",
      "Factor     - dense dim.             : 0                 flops                  : 4.46e+07        \n",
      "ITE PFEAS    DFEAS    GFEAS    PRSTATUS   POBJ              DOBJ              MU       TIME  \n",
      "0   1.0e+00  9.0e+00  1.0e+00  0.00e+00   0.000000000e+00   0.000000000e+00   1.0e+00  0.21  \n",
      "1   1.6e-01  1.4e+00  1.0e+00  1.98e+00   4.652649339e-01   4.293078278e-01   1.6e-01  0.26  \n",
      "2   1.1e-02  9.5e-02  2.2e-01  2.14e+00   3.271458970e-01   3.271998592e-01   1.1e-02  0.29  \n",
      "3   3.1e-03  2.8e-02  1.5e-01  1.05e+00   3.270232630e-01   3.268313080e-01   3.1e-03  0.31  \n",
      "4   4.8e-04  4.3e-03  1.1e-01  1.03e+00   3.260708044e-01   3.259921583e-01   4.8e-04  0.32  \n",
      "5   2.3e-05  2.1e-04  2.5e-02  1.00e+00   3.259098031e-01   3.259059386e-01   2.3e-05  0.34  \n",
      "6   2.9e-06  2.6e-05  8.3e-03  1.00e+00   3.259026243e-01   3.259021501e-01   2.9e-06  0.35  \n",
      "7   6.9e-10  6.2e-09  6.9e-10  1.00e+00   3.259013419e-01   3.259013418e-01   6.9e-10  0.37  \n",
      "Interior-point optimizer terminated. Time: 0.39. \n",
      "\n",
      "Optimizer terminated. Time: 0.43    \n",
      "\n",
      "Interior-point solution summary\n",
      "  Problem status  : PRIMAL_AND_DUAL_FEASIBLE\n",
      "  Solution status : OPTIMAL\n",
      "  Primal.  obj: 3.2590134189e-01    nrm: 9e-01    Viol.  con: 1e-10    var: 0e+00    cones: 1e-10  \n",
      "  Dual.    obj: 3.2590134176e-01    nrm: 2e-01    Viol.  con: 1e-10    var: 1e-09    cones: 0e+00  \n",
      "solve time 0.4312858581542969\n",
      "status optimal\n",
      "opt_val 0.32590134189310394\n"
     ]
    }
   ],
   "source": [
    "prob.solve(solver = \"MOSEK\", verbose = True)\n",
    "print(\"solve time\", prob.solver_stats.solve_time)\n",
    "print(\"status\", prob.status)\n",
    "print(\"opt_val\", prob.value)"
   ]
  },
  {
   "cell_type": "code",
   "execution_count": 15,
   "metadata": {
    "collapsed": true
   },
   "outputs": [],
   "source": [
    "import inspect"
   ]
  },
  {
   "cell_type": "code",
   "execution_count": 17,
   "metadata": {},
   "outputs": [
    {
     "data": {
      "text/plain": [
       "2"
      ]
     },
     "execution_count": 17,
     "metadata": {},
     "output_type": "execute_result"
    }
   ],
   "source": [
    "superscs.solve.__code__.co_argcount"
   ]
  },
  {
   "cell_type": "code",
   "execution_count": 124,
   "metadata": {},
   "outputs": [
    {
     "name": "stdout",
     "output_type": "stream",
     "text": [
      "False\n",
      "False\n",
      "False\n",
      "False\n",
      "False\n",
      "False\n",
      "False\n",
      "False\n",
      "False\n",
      "True\n"
     ]
    }
   ],
   "source": [
    "for constr in prob.canonicalize()[1]:\n",
    "    print(isinstance(constr, cp.constraints.exponential.ExpCone))\n"
   ]
  },
  {
   "cell_type": "code",
   "execution_count": 134,
   "metadata": {
    "collapsed": true
   },
   "outputs": [],
   "source": [
    "X = cp.Semidef(10)\n",
    "A = np.eye(10)\n",
    "Y = cp.Int(3)\n",
    "b = np.array([4,5,6])\n",
    "Z = cp.Bool(2)\n",
    "c = np.array([0, 1])"
   ]
  },
  {
   "cell_type": "code",
   "execution_count": 143,
   "metadata": {
    "collapsed": true
   },
   "outputs": [],
   "source": [
    "testprob = cp.Problem(cp.Minimize(0), [X >> A, Y == b,  Z == c])"
   ]
  },
  {
   "cell_type": "code",
   "execution_count": 144,
   "metadata": {},
   "outputs": [
    {
     "data": {
      "text/plain": [
       "(LinOp(type='scalar_const', size=(1, 1), args=[], data=0),\n",
       " [<cvxpy.constraints.semidefinite.SDP at 0x116e5a4a8>,\n",
       "  <cvxpy.constraints.semidefinite.SDP at 0x1155e1438>,\n",
       "  <cvxpy.constraints.int_constr.IntConstr at 0x1155cb128>,\n",
       "  LinEqConstr(expr=LinOp(type='sum', size=(3, 1), args=[LinOp(type='variable', size=(3, 1), args=[], data=288), LinOp(type='dense_const', size=(3, 1), args=[], data=matrix([[-4.],\n",
       "        [-5.],\n",
       "        [-6.]]))], data=None), constr_id=308, size=(3, 1)),\n",
       "  <cvxpy.constraints.bool_constr.BoolConstr at 0x116e5a438>,\n",
       "  LinEqConstr(expr=LinOp(type='sum', size=(2, 1), args=[LinOp(type='variable', size=(2, 1), args=[], data=289), LinOp(type='dense_const', size=(2, 1), args=[], data=matrix([[-0.],\n",
       "        [-1.]]))], data=None), constr_id=310, size=(2, 1))])"
      ]
     },
     "execution_count": 144,
     "metadata": {},
     "output_type": "execute_result"
    }
   ],
   "source": [
    "testprob.canonicalize()"
   ]
  },
  {
   "cell_type": "code",
   "execution_count": 142,
   "metadata": {},
   "outputs": [
    {
     "ename": "SolverError",
     "evalue": "The solver SCS cannot solve the problem because it cannot solve mixed-integer problems.",
     "output_type": "error",
     "traceback": [
      "\u001b[0;31m---------------------------------------------------------------------------\u001b[0m",
      "\u001b[0;31mSolverError\u001b[0m                               Traceback (most recent call last)",
      "\u001b[0;32m<ipython-input-142-1c17e9303f48>\u001b[0m in \u001b[0;36m<module>\u001b[0;34m()\u001b[0m\n\u001b[0;32m----> 1\u001b[0;31m \u001b[0mtestprob\u001b[0m\u001b[0;34m.\u001b[0m\u001b[0msolve\u001b[0m\u001b[0;34m(\u001b[0m\u001b[0msolver\u001b[0m \u001b[0;34m=\u001b[0m \u001b[0;34m\"SCS\"\u001b[0m\u001b[0;34m)\u001b[0m\u001b[0;34m\u001b[0m\u001b[0m\n\u001b[0m",
      "\u001b[0;32m~/Documents/Stanford/superscs/benchmark/lib/python3.6/site-packages/cvxpy-0.4.9-py3.6.egg/cvxpy/problems/problem.py\u001b[0m in \u001b[0;36msolve\u001b[0;34m(self, *args, **kwargs)\u001b[0m\n\u001b[1;32m    207\u001b[0m             \u001b[0;32mreturn\u001b[0m \u001b[0mfunc\u001b[0m\u001b[0;34m(\u001b[0m\u001b[0mself\u001b[0m\u001b[0;34m,\u001b[0m \u001b[0;34m*\u001b[0m\u001b[0margs\u001b[0m\u001b[0;34m,\u001b[0m \u001b[0;34m**\u001b[0m\u001b[0mkwargs\u001b[0m\u001b[0;34m)\u001b[0m\u001b[0;34m\u001b[0m\u001b[0m\n\u001b[1;32m    208\u001b[0m         \u001b[0;32melse\u001b[0m\u001b[0;34m:\u001b[0m\u001b[0;34m\u001b[0m\u001b[0m\n\u001b[0;32m--> 209\u001b[0;31m             \u001b[0;32mreturn\u001b[0m \u001b[0mself\u001b[0m\u001b[0;34m.\u001b[0m\u001b[0m_solve\u001b[0m\u001b[0;34m(\u001b[0m\u001b[0;34m*\u001b[0m\u001b[0margs\u001b[0m\u001b[0;34m,\u001b[0m \u001b[0;34m**\u001b[0m\u001b[0mkwargs\u001b[0m\u001b[0;34m)\u001b[0m\u001b[0;34m\u001b[0m\u001b[0m\n\u001b[0m\u001b[1;32m    210\u001b[0m \u001b[0;34m\u001b[0m\u001b[0m\n\u001b[1;32m    211\u001b[0m     \u001b[0;34m@\u001b[0m\u001b[0mclassmethod\u001b[0m\u001b[0;34m\u001b[0m\u001b[0m\n",
      "\u001b[0;32m~/Documents/Stanford/superscs/benchmark/lib/python3.6/site-packages/cvxpy-0.4.9-py3.6.egg/cvxpy/problems/problem.py\u001b[0m in \u001b[0;36m_solve\u001b[0;34m(self, solver, ignore_dcp, warm_start, verbose, parallel, **kwargs)\u001b[0m\n\u001b[1;32m    319\u001b[0m         \u001b[0;32melif\u001b[0m \u001b[0msolver\u001b[0m \u001b[0;32min\u001b[0m \u001b[0mSOLVERS\u001b[0m\u001b[0;34m:\u001b[0m\u001b[0;34m\u001b[0m\u001b[0m\n\u001b[1;32m    320\u001b[0m             \u001b[0msolver\u001b[0m \u001b[0;34m=\u001b[0m \u001b[0mSOLVERS\u001b[0m\u001b[0;34m[\u001b[0m\u001b[0msolver\u001b[0m\u001b[0;34m]\u001b[0m\u001b[0;34m\u001b[0m\u001b[0m\n\u001b[0;32m--> 321\u001b[0;31m             \u001b[0msolver\u001b[0m\u001b[0;34m.\u001b[0m\u001b[0mvalidate_solver\u001b[0m\u001b[0;34m(\u001b[0m\u001b[0mconstraints\u001b[0m\u001b[0;34m)\u001b[0m\u001b[0;34m\u001b[0m\u001b[0m\n\u001b[0m\u001b[1;32m    322\u001b[0m         \u001b[0;32melse\u001b[0m\u001b[0;34m:\u001b[0m\u001b[0;34m\u001b[0m\u001b[0m\n\u001b[1;32m    323\u001b[0m             \u001b[0;32mraise\u001b[0m \u001b[0mSolverError\u001b[0m\u001b[0;34m(\u001b[0m\u001b[0;34m\"Unknown solver.\"\u001b[0m\u001b[0;34m)\u001b[0m\u001b[0;34m\u001b[0m\u001b[0m\n",
      "\u001b[0;32m~/Documents/Stanford/superscs/benchmark/lib/python3.6/site-packages/cvxpy-0.4.9-py3.6.egg/cvxpy/problems/solvers/solver.py\u001b[0m in \u001b[0;36mvalidate_solver\u001b[0;34m(self, constraints)\u001b[0m\n\u001b[1;32m    127\u001b[0m \u001b[0;34m\u001b[0m\u001b[0m\n\u001b[1;32m    128\u001b[0m         \u001b[0;32mif\u001b[0m \u001b[0;34m(\u001b[0m\u001b[0mconstr_map\u001b[0m\u001b[0;34m[\u001b[0m\u001b[0ms\u001b[0m\u001b[0;34m.\u001b[0m\u001b[0mBOOL\u001b[0m\u001b[0;34m]\u001b[0m \u001b[0;32mor\u001b[0m \u001b[0mconstr_map\u001b[0m\u001b[0;34m[\u001b[0m\u001b[0ms\u001b[0m\u001b[0;34m.\u001b[0m\u001b[0mINT\u001b[0m\u001b[0;34m]\u001b[0m\u001b[0;34m)\u001b[0m \u001b[0;32mand\u001b[0m \u001b[0;32mnot\u001b[0m \u001b[0mself\u001b[0m\u001b[0;34m.\u001b[0m\u001b[0mMIP_CAPABLE\u001b[0m\u001b[0;34m:\u001b[0m\u001b[0;34m\u001b[0m\u001b[0m\n\u001b[0;32m--> 129\u001b[0;31m             \u001b[0mself\u001b[0m\u001b[0;34m.\u001b[0m\u001b[0m_reject_problem\u001b[0m\u001b[0;34m(\u001b[0m\u001b[0;34m\"it cannot solve mixed-integer problems\"\u001b[0m\u001b[0;34m)\u001b[0m\u001b[0;34m\u001b[0m\u001b[0m\n\u001b[0m\u001b[1;32m    130\u001b[0m         \u001b[0;32melif\u001b[0m \u001b[0mconstr_map\u001b[0m\u001b[0;34m[\u001b[0m\u001b[0ms\u001b[0m\u001b[0;34m.\u001b[0m\u001b[0mSDP\u001b[0m\u001b[0;34m]\u001b[0m \u001b[0;32mand\u001b[0m \u001b[0;32mnot\u001b[0m \u001b[0mself\u001b[0m\u001b[0;34m.\u001b[0m\u001b[0mSDP_CAPABLE\u001b[0m\u001b[0;34m:\u001b[0m\u001b[0;34m\u001b[0m\u001b[0m\n\u001b[1;32m    131\u001b[0m             \u001b[0mself\u001b[0m\u001b[0;34m.\u001b[0m\u001b[0m_reject_problem\u001b[0m\u001b[0;34m(\u001b[0m\u001b[0;34m\"it cannot solve semidefinite problems\"\u001b[0m\u001b[0;34m)\u001b[0m\u001b[0;34m\u001b[0m\u001b[0m\n",
      "\u001b[0;32m~/Documents/Stanford/superscs/benchmark/lib/python3.6/site-packages/cvxpy-0.4.9-py3.6.egg/cvxpy/problems/solvers/solver.py\u001b[0m in \u001b[0;36m_reject_problem\u001b[0;34m(self, reason)\u001b[0m\n\u001b[1;32m    154\u001b[0m             \u001b[0mself\u001b[0m\u001b[0;34m.\u001b[0m\u001b[0mname\u001b[0m\u001b[0;34m(\u001b[0m\u001b[0;34m)\u001b[0m\u001b[0;34m,\u001b[0m \u001b[0mreason\u001b[0m\u001b[0;34m\u001b[0m\u001b[0m\n\u001b[1;32m    155\u001b[0m         )\n\u001b[0;32m--> 156\u001b[0;31m         \u001b[0;32mraise\u001b[0m \u001b[0mSolverError\u001b[0m\u001b[0;34m(\u001b[0m\u001b[0mmessage\u001b[0m\u001b[0;34m)\u001b[0m\u001b[0;34m\u001b[0m\u001b[0m\n\u001b[0m\u001b[1;32m    157\u001b[0m \u001b[0;34m\u001b[0m\u001b[0m\n\u001b[1;32m    158\u001b[0m     \u001b[0;32mdef\u001b[0m \u001b[0mvalidate_cache\u001b[0m\u001b[0;34m(\u001b[0m\u001b[0mself\u001b[0m\u001b[0;34m,\u001b[0m \u001b[0mobjective\u001b[0m\u001b[0;34m,\u001b[0m \u001b[0mconstraints\u001b[0m\u001b[0;34m,\u001b[0m \u001b[0mcached_data\u001b[0m\u001b[0;34m)\u001b[0m\u001b[0;34m:\u001b[0m\u001b[0;34m\u001b[0m\u001b[0m\n",
      "\u001b[0;31mSolverError\u001b[0m: The solver SCS cannot solve the problem because it cannot solve mixed-integer problems."
     ]
    }
   ],
   "source": []
  },
  {
   "cell_type": "code",
   "execution_count": 146,
   "metadata": {
    "collapsed": true
   },
   "outputs": [],
   "source": [
    "from cvxpy.constraints.soc_axis import SOC_Axis\n",
    "from cvxpy.constraints.second_order import SOC"
   ]
  },
  {
   "cell_type": "code",
   "execution_count": 153,
   "metadata": {},
   "outputs": [
    {
     "data": {
      "text/plain": [
       "True"
      ]
     },
     "execution_count": 153,
     "metadata": {},
     "output_type": "execute_result"
    }
   ],
   "source": [
    "issubclass(SOC_Axis, SOC)"
   ]
  },
  {
   "cell_type": "code",
   "execution_count": null,
   "metadata": {
    "collapsed": true
   },
   "outputs": [],
   "source": []
  }
 ],
 "metadata": {
  "kernelspec": {
   "display_name": "Python 3",
   "language": "python",
   "name": "python3"
  },
  "language_info": {
   "codemirror_mode": {
    "name": "ipython",
    "version": 3
   },
   "file_extension": ".py",
   "mimetype": "text/x-python",
   "name": "python",
   "nbconvert_exporter": "python",
   "pygments_lexer": "ipython3",
   "version": "3.6.1"
  }
 },
 "nbformat": 4,
 "nbformat_minor": 2
}
