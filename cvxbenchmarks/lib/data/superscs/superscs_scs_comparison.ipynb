{
 "cells": [
  {
   "cell_type": "code",
   "execution_count": 1,
   "metadata": {
    "collapsed": true
   },
   "outputs": [],
   "source": [
    "import cvxpy as cp\n"
   ]
  },
  {
   "cell_type": "code",
   "execution_count": 2,
   "metadata": {},
   "outputs": [
    {
     "data": {
      "text/plain": [
       "['ECOS', 'ECOS_BB', 'SCS', 'SUPERSCS', 'MOSEK', 'LS']"
      ]
     },
     "execution_count": 2,
     "metadata": {},
     "output_type": "execute_result"
    }
   ],
   "source": [
    "cp.installed_solvers()"
   ]
  },
  {
   "cell_type": "code",
   "execution_count": 25,
   "metadata": {},
   "outputs": [],
   "source": [
    "# SuperSCS LASSO Benchmark\n",
    "\n",
    "import numpy as np\n",
    "import cvxpy as cp\n",
    "import scipy as sp\n",
    "\n",
    "import scipy.sparse as sps\n",
    "\n",
    "np.random.seed(0)\n",
    "# Variable declarations\n",
    "n = 10000\n",
    "m = 2000\n",
    "\n",
    "s = int(np.ceil(n/10))\n",
    "x_true = np.vstack((np.random.randn(s, 1), np.zeros((n-s, 1))))\n",
    "x_true = np.random.permutation(x_true)\n",
    "\n",
    "density = 0.1\n",
    "rcA = 0.1\n",
    "A = sps.random(m, n, density, data_rvs = np.random.randn)\n",
    "\n",
    "b = A*x_true + 0.1*np.random.randn(m, 1)\n",
    "mu = 1\n",
    "\n",
    "\n",
    "# Problem construction\n",
    "x = cp.Variable(n)\n",
    "\n",
    "prob = cp.Problem(cp.Minimize(0.5*cp.sum_squares(A*x) + mu*cp.norm1(x)))\n",
    "\n",
    "problems = {\"superscs_lasso\" : prob}\n",
    "\n"
   ]
  },
  {
   "cell_type": "code",
   "execution_count": 71,
   "metadata": {},
   "outputs": [],
   "source": [
    "# Dumb Least Squares SCS > SUPERSCS\n",
    "n = 80\n",
    "m = 100\n",
    "np.random.seed(1)\n",
    "\n",
    "x = cp.Variable(n)\n",
    "x_0 = np.random.randn(n)\n",
    "A = np.random.randn(m, n)\n",
    "b = A.dot(x_0) + 0.5*np.random.randn(m)\n",
    "\n",
    "\n",
    "# Problem construction\n",
    "prob = None\n",
    "opt_val = None\n",
    "\n",
    "objective = cp.Minimize(cp.sum_squares(A*x - b))\n",
    "prob = cp.Problem(objective)"
   ]
  },
  {
   "cell_type": "code",
   "execution_count": 74,
   "metadata": {
    "collapsed": true
   },
   "outputs": [],
   "source": [
    "# Basis Pursuit SCS > SUPERSCS\n",
    "\n",
    "import cvxpy as cp\n",
    "import numpy as np\n",
    "import scipy as sp\n",
    "\n",
    "# Variable declarations\n",
    "\n",
    "import scipy.sparse as sps\n",
    "n = 300\n",
    "m = 100\n",
    "np.random.seed(0)\n",
    "\n",
    "x = cp.Variable(n)\n",
    "A = np.random.rand(m, n)\n",
    "x0 = sps.rand(n, 1, 0.1)\n",
    "\n",
    "b = A*x0\n",
    "\n",
    "\n",
    "# Problem construction\n",
    "prob = None\n",
    "opt_val = None\n",
    "\n",
    "prob = cp.Problem(cp.Minimize(cp.norm1(x)), [A*x == b])\n"
   ]
  },
  {
   "cell_type": "code",
   "execution_count": 85,
   "metadata": {
    "collapsed": true
   },
   "outputs": [],
   "source": [
    "# lp_1 SUPERSCS > SCS\n",
    "m = 30\n",
    "n = 300\n",
    "np.random.seed(1)\n",
    "\n",
    "A = np.random.rand(m, n)\n",
    "\n",
    "y = (np.random.rand(n) - 0.5)\n",
    "x_hat = -np.select([y < 0], [y])\n",
    "Lambda = np.select([y >= 0], [y]) # x_hat^T Lambda = 0\n",
    "\n",
    "mu = np.random.rand(m)\n",
    "c = Lambda - A.T.dot(mu)\n",
    "b = A.dot(x_hat)\n",
    "x = cp.Variable(n)\n",
    "\n",
    "\n",
    "# Problem construction\n",
    "prob = None\n",
    "opt_val = None\n",
    "\n",
    "objective = cp.Minimize(c*x)\n",
    "constraints = [A*x == b, x >= 0]\n",
    "\n",
    "prob = cp.Problem(objective, constraints)"
   ]
  },
  {
   "cell_type": "code",
   "execution_count": 96,
   "metadata": {
    "collapsed": true
   },
   "outputs": [],
   "source": [
    "# chebyshev_0 SUPERSCS > SCS\n",
    "import cvxpy as cp\n",
    "import numpy as np\n",
    "import scipy as sp\n",
    "\n",
    "# Variable declarations\n",
    "\n",
    "def normalized_data_matrix(m, n, mu):\n",
    "    if mu == 1:\n",
    "        # dense\n",
    "        A = np.random.randn(m, n)\n",
    "        A /= np.sqrt(np.sum(A**2, 0))\n",
    "    else:\n",
    "        # sparse\n",
    "        A = sp.rand(m, n, mu)\n",
    "        A.data = np.random.randn(A.nnz)\n",
    "        N = A.copy()\n",
    "        N.data = N.data**2\n",
    "        A = A*sp.diags([1 / np.sqrt(np.ravel(N.sum(axis=0)))], [0])\n",
    "\n",
    "    return A\n",
    "\n",
    "np.random.seed(0)\n",
    "m = 100\n",
    "n = 200\n",
    "k = 10\n",
    "A = [normalized_data_matrix(m,n,1) for i in range(k)]\n",
    "B = normalized_data_matrix(k,n,1)\n",
    "c = np.random.rand(k)\n",
    "\n",
    "x = cp.Variable(n)\n",
    "t = cp.Variable(k)\n",
    "\n",
    "\n",
    "# Problem construction\n",
    "prob = None\n",
    "opt_val = None\n",
    "\n",
    "\n",
    "f = cp.max_entries(t+cp.abs(B*x-c))\n",
    "C = []\n",
    "for i in range(k):\n",
    "    C.append(cp.pnorm(A[i]*x, 2) <= t[i])\n",
    "\n",
    "prob = cp.Problem(cp.Minimize(f), C)"
   ]
  },
  {
   "cell_type": "code",
   "execution_count": 101,
   "metadata": {
    "collapsed": true
   },
   "outputs": [],
   "source": [
    "# least_abs_dev_0 SUPERSCS > SCS\n",
    "\n",
    "import cvxpy as cp\n",
    "import numpy as np\n",
    "import scipy as sp\n",
    "\n",
    "# Variable declarations\n",
    "\n",
    "import scipy.sparse as sps\n",
    "\n",
    "np.random.seed(0)\n",
    "m = 5000\n",
    "n = 200\n",
    "\n",
    "A = np.random.randn(m,n);\n",
    "A = A*sps.diags([1 / np.sqrt(np.sum(A**2, 0))], [0])\n",
    "b = A.dot(10*np.random.randn(n))\n",
    "\n",
    "k = max(m//50, 1)\n",
    "idx = np.random.randint(0, m, k)\n",
    "b[idx] += 100*np.random.randn(k)\n",
    "\n",
    "x = cp.Variable(n)\n",
    "\n",
    "\n",
    "# Problem construction\n",
    "prob = None\n",
    "opt_val = None\n",
    "\n",
    "prob = cp.Problem(cp.Minimize(cp.norm1(A*x - b)))"
   ]
  },
  {
   "cell_type": "code",
   "execution_count": 108,
   "metadata": {},
   "outputs": [
    {
     "name": "stdout",
     "output_type": "stream",
     "text": [
      "solve time 4.381547678\n",
      "status optimal\n",
      "opt_val 7094.74672291801\n"
     ]
    }
   ],
   "source": [
    "results = prob.solve(solver = \"SUPERSCS\", verbose = True, eps = 1e-5)\n",
    "print(\"solve time\", prob.solver_stats.solve_time)\n",
    "print(\"status\", prob.status)\n",
    "print(\"opt_val\", prob.value)"
   ]
  },
  {
   "cell_type": "code",
   "execution_count": 106,
   "metadata": {},
   "outputs": [
    {
     "name": "stdout",
     "output_type": "stream",
     "text": [
      "----------------------------------------------------------------------------\n",
      "\tSCS v1.2.6 - Splitting Conic Solver\n",
      "\t(c) Brendan O'Donoghue, Stanford University, 2012-2016\n",
      "----------------------------------------------------------------------------\n",
      "Lin-sys: sparse-indirect, nnz in A = 2010000, CG tol ~ 1/iter^(2.00)\n",
      "eps = 1.00e-05, alpha = 1.50, max_iters = 2500, normalize = 1, scale = 1.00\n",
      "Variables n = 5200, constraints m = 10000\n",
      "Cones:\tlinear vars: 10000\n",
      "Setup time: 3.31e-01s\n",
      "----------------------------------------------------------------------------\n",
      " Iter | pri res | dua res | rel gap | pri obj | dua obj | kap/tau | time (s)\n",
      "----------------------------------------------------------------------------\n",
      "     0|      inf       inf       nan      -inf       inf       inf  1.53e-01 \n",
      "    60| 1.01e-06  1.10e-06  7.52e-08  7.09e+03  7.09e+03  4.17e-12  1.70e+00 \n",
      "----------------------------------------------------------------------------\n",
      "Status: Solved\n",
      "Timing: Solve time: 1.70e+00s\n",
      "\tLin-sys: avg # CG iterations: 1.62, avg solve time: 2.71e-02s\n",
      "\tCones: avg projection time: 6.73e-06s\n",
      "----------------------------------------------------------------------------\n",
      "Error metrics:\n",
      "dist(s, K) = 3.3005e-15, dist(y, K*) = 0.0000e+00, s'y/|s||y| = 3.6772e-19\n",
      "|Ax + s - b|_2 / (1 + |b|_2) = 1.0082e-06\n",
      "|A'y + c|_2 / (1 + |c|_2) = 1.1022e-06\n",
      "|c'x + b'y| / (1 + |c'x| + |b'y|) = 7.5206e-08\n",
      "----------------------------------------------------------------------------\n",
      "c'x = 7094.7268, -b'y = 7094.7257\n",
      "============================================================================\n",
      "solve time 1.702948151\n",
      "status optimal\n",
      "opt_val 7094.726784189562\n"
     ]
    }
   ],
   "source": [
    "prob.solve(solver = \"SCS\", verbose = True, eps = 1e-5)\n",
    "print(\"solve time\", prob.solver_stats.solve_time)\n",
    "print(\"status\", prob.status)\n",
    "print(\"opt_val\", prob.value)"
   ]
  },
  {
   "cell_type": "code",
   "execution_count": 107,
   "metadata": {},
   "outputs": [
    {
     "name": "stdout",
     "output_type": "stream",
     "text": [
      "Problem\n",
      "  Name                   :                 \n",
      "  Objective sense        : min             \n",
      "  Type                   : LO (linear optimization problem)\n",
      "  Constraints            : 10000           \n",
      "  Cones                  : 0               \n",
      "  Scalar variables       : 5200            \n",
      "  Matrix variables       : 0               \n",
      "  Integer variables      : 0               \n",
      "\n",
      "Optimizer started.\n",
      "Interior-point optimizer started.\n",
      "Presolve started.\n",
      "Linear dependency checker started.\n",
      "Linear dependency checker terminated.\n",
      "Eliminator started.\n",
      "Freed constraints in eliminator : 0\n",
      "Eliminator terminated.\n",
      "Eliminator started.\n",
      "Freed constraints in eliminator : 0\n",
      "Eliminator terminated.\n",
      "Eliminator - tries                  : 2                 time                   : 0.00            \n",
      "Lin. dep.  - tries                  : 1                 time                   : 0.01            \n",
      "Lin. dep.  - number                 : 0               \n",
      "Presolve terminated. Time: 0.80    \n",
      "Optimizer  - threads                : 4               \n",
      "Optimizer  - solved problem         : the dual        \n",
      "Optimizer  - Constraints            : 222\n",
      "Optimizer  - Cones                  : 0\n",
      "Optimizer  - Scalar variables       : 5022              conic                  : 0               \n",
      "Optimizer  - Semi-definite variables: 0                 scalarized             : 0               \n",
      "Factor     - setup time             : 0.08              dense det. time        : 0.00            \n",
      "Factor     - ML order time          : 0.00              GP order time          : 0.00            \n",
      "Factor     - nonzeros before factor : 2.45e+04          after factor           : 2.45e+04        \n",
      "Factor     - dense dim.             : 0                 flops                  : 2.08e+08        \n",
      "ITE PFEAS    DFEAS    GFEAS    PRSTATUS   POBJ              DOBJ              MU       TIME  \n",
      "0   2.2e+01  3.3e+01  2.1e+01  1.00e+00   2.045970473e+02   -2.045970473e+02  1.0e+00  1.01  \n",
      "1   1.0e+00  6.5e+01  4.8e+03  0.00e+00   6.062287770e+04   3.283865716e+04   1.1e+01  1.06  \n",
      "2   2.4e-01  1.6e+01  1.2e+03  1.67e+00   1.423111028e+04   1.056501011e+04   2.6e+00  1.10  \n",
      "3   4.2e-02  2.7e+00  2.0e+02  1.86e+00   7.932342549e+03   7.502840434e+03   4.4e-01  1.13  \n",
      "4   1.5e-04  9.6e-03  7.1e-01  1.08e+00   7.097551619e+03   7.096082297e+03   1.6e-03  1.16  \n",
      "5   1.5e-08  9.6e-07  7.1e-05  1.00e+00   7.094726502e+03   7.094726355e+03   1.6e-07  1.18  \n",
      "Basis identification started.\n",
      "Primal basis identification phase started.\n",
      "ITER      TIME\n",
      "2500      0.41    \n",
      "4876      0.87    \n",
      "Primal basis identification phase terminated. Time: 0.87\n",
      "Dual basis identification phase started.\n",
      "ITER      TIME\n",
      "0         0.00    \n",
      "Dual basis identification phase terminated. Time: 0.00\n",
      "Dual simplex reoptimization started.\n",
      "ITER      DEGITER(%)  PFEAS       DFEAS       POBJ                  DOBJ                  TIME\n",
      "0         0.00        0.00e+00    NA          7.094726220411e+03    NA                    0.02    \n",
      "2500      84.69       0.00e+00    NA          7.094724959452e+03    NA                    4.22    \n",
      "4731      86.43       0.00e+00    NA          7.094761920651e+03    NA                    7.88    \n",
      "Dual simplex reoptimization terminated. Time: 7.88    \n",
      "Simplex reoptimization terminated. Time: 7.91    \n",
      "Basis identification terminated. Time: 8.89\n",
      "Interior-point optimizer terminated. Time: 10.13. \n",
      "\n",
      "Optimizer terminated. Time: 10.23   \n",
      "\n",
      "Interior-point solution summary\n",
      "  Problem status  : PRIMAL_AND_DUAL_FEASIBLE\n",
      "  Solution status : OPTIMAL\n",
      "  Primal.  obj: 7.0947265175e+03    nrm: 2e+02    Viol.  con: 3e-08    var: 0e+00  \n",
      "  Dual.    obj: 7.0947262852e+03    nrm: 1e+00    Viol.  con: 3e-08    var: 3e-08  \n",
      "\n",
      "Basic solution summary\n",
      "  Problem status  : PRIMAL_AND_DUAL_FEASIBLE\n",
      "  Solution status : OPTIMAL\n",
      "  Primal.  obj: 7.0947262193e+03    nrm: 2e+02    Viol.  con: 2e-11    var: 0e+00  \n",
      "  Dual.    obj: 7.0947262193e+03    nrm: 1e+00    Viol.  con: 0e+00    var: 2e-14  \n",
      "solve time 10.23019814491272\n",
      "status optimal\n",
      "opt_val 7094.726517494272\n"
     ]
    }
   ],
   "source": [
    "prob.solve(solver = \"MOSEK\", verbose = True)\n",
    "print(\"solve time\", prob.solver_stats.solve_time)\n",
    "print(\"status\", prob.status)\n",
    "print(\"opt_val\", prob.value)"
   ]
  },
  {
   "cell_type": "code",
   "execution_count": 15,
   "metadata": {},
   "outputs": [],
   "source": [
    "import inspect"
   ]
  },
  {
   "cell_type": "code",
   "execution_count": 17,
   "metadata": {},
   "outputs": [
    {
     "data": {
      "text/plain": [
       "2"
      ]
     },
     "execution_count": 17,
     "metadata": {},
     "output_type": "execute_result"
    }
   ],
   "source": [
    "superscs.solve.__code__.co_argcount"
   ]
  },
  {
   "cell_type": "code",
   "execution_count": 19,
   "metadata": {},
   "outputs": [
    {
     "name": "stdout",
     "output_type": "stream",
     "text": [
      "Help on function solve in module superscs:\n",
      "\n",
      "solve(probdata, cone, **kwargs)\n",
      "    solves convex cone problems\n",
      "     \n",
      "    @return dictionary with solution with keys:\n",
      "         'x' - primal solution\n",
      "         's' - primal slack solution\n",
      "         'y' - dual solution\n",
      "         'info' - information dictionary\n",
      "\n"
     ]
    }
   ],
   "source": [
    "help(superscs.solve)"
   ]
  },
  {
   "cell_type": "code",
   "execution_count": null,
   "metadata": {
    "collapsed": true
   },
   "outputs": [],
   "source": []
  }
 ],
 "metadata": {
  "kernelspec": {
   "display_name": "Python 3",
   "language": "python",
   "name": "python3"
  },
  "language_info": {
   "codemirror_mode": {
    "name": "ipython",
    "version": 3
   },
   "file_extension": ".py",
   "mimetype": "text/x-python",
   "name": "python",
   "nbconvert_exporter": "python",
   "pygments_lexer": "ipython3",
   "version": "3.6.1"
  }
 },
 "nbformat": 4,
 "nbformat_minor": 2
}
