{
 "cells": [
  {
   "cell_type": "markdown",
   "metadata": {},
   "source": [
    "### Least Squares\n",
    "\n",
    "Least squares is a widely used method for data-fitting, control, portfolio optimization, and many other things. It's most general formulation is:\n",
    "\n",
    "\\begin{equation*}\n",
    "  \\begin{aligned}\n",
    "    &\\text{minimize} && \\| Ax - b\\|_2^2 \\\\\n",
    "  \\end{aligned}\n",
    "\\end{equation*}\n",
    "\n",
    "with variable $x$ and constants $A$ and $b$. For more information, including lots of examples, see https://web.stanford.edu/class/ee103/."
   ]
  },
  {
   "cell_type": "code",
   "execution_count": 2,
   "metadata": {},
   "outputs": [
    {
     "name": "stdout",
     "output_type": "stream",
     "text": [
      "least_squares_0\n",
      "----------------------------------------------------------------------------\n",
      "\tSCS v1.2.6 - Splitting Conic Solver\n",
      "\t(c) Brendan O'Donoghue, Stanford University, 2012-2016\n",
      "----------------------------------------------------------------------------\n",
      "Lin-sys: sparse-indirect, nnz in A = 5002, CG tol ~ 1/iter^(2.00)\n",
      "eps = 1.00e-05, alpha = 1.50, max_iters = 2500, normalize = 1, scale = 1.00\n",
      "Variables n = 51, constraints m = 102\n",
      "Cones:\tsoc vars: 102, soc blks: 1\n",
      "Setup time: 1.51e-02s\n",
      "----------------------------------------------------------------------------\n",
      " Iter | pri res | dua res | rel gap | pri obj | dua obj | kap/tau | time (s)\n",
      "----------------------------------------------------------------------------\n",
      "     0| 1.63e+01  1.15e+01  9.98e-01 -3.20e+02  3.32e+02  0.00e+00  1.08e-02 \n",
      "   100| 9.81e-03  5.73e-03  5.62e-05  2.06e+02  2.06e+02  2.96e-15  3.08e-02 \n",
      "   200| 2.67e-04  1.57e-04  1.72e-06  2.08e+02  2.08e+02  3.14e-15  4.68e-02 \n",
      "   300| 7.82e-06  3.73e-06  3.11e-08  2.09e+02  2.09e+02  3.15e-15  5.62e-02 \n",
      "----------------------------------------------------------------------------\n",
      "Status: Solved\n",
      "Timing: Solve time: 5.63e-02s\n",
      "\tLin-sys: avg # CG iterations: 9.86, avg solve time: 1.44e-04s\n",
      "\tCones: avg projection time: 2.23e-07s\n",
      "----------------------------------------------------------------------------\n",
      "Error metrics:\n",
      "dist(s, K) = 0.0000e+00, dist(y, K*) = 0.0000e+00, s'y/|s||y| = 1.1414e-15\n",
      "|Ax + s - b|_2 / (1 + |b|_2) = 7.8234e-06\n",
      "|A'y + c|_2 / (1 + |c|_2) = 3.7304e-06\n",
      "|c'x + b'y| / (1 + |c'x| + |b'y|) = 3.1137e-08\n",
      "----------------------------------------------------------------------------\n",
      "c'x = 208.5163, -b'y = 208.5163\n",
      "============================================================================\n",
      "\tstatus: optimal\n",
      "\toptimal value: 208.51634478\n",
      "\ttrue optimal value: None\n"
     ]
    }
   ],
   "source": [
    "import cvxpy as cp\n",
    "import numpy as np\n",
    "import scipy as sp\n",
    "\n",
    "# Variable declarations\n",
    "\n",
    "import scipy.sparse as sps\n",
    "\n",
    "n = 50\n",
    "m = 100\n",
    "np.random.seed(1)\n",
    "\n",
    "x = cp.Variable(n)\n",
    "A = np.random.randn(m, n)\n",
    "A = A * sps.diags([1 / np.sqrt(np.sum(A**2, 0))], [0])\n",
    "x_0 = np.random.randn(n)\n",
    "b = A.dot(x_0) + 2*np.random.randn(m)\n",
    "\n",
    "\n",
    "# Problem construction\n",
    "prob = None\n",
    "opt_val = None\n",
    "\n",
    "objective = cp.Minimize(cp.sum_squares(A*x - b))\n",
    "prob = cp.Problem(objective)\n",
    "\n",
    "problemDict = {\n",
    "    \"problemID\": \"least_squares_0\",\n",
    "    \"problem\": prob,\n",
    "    \"opt_val\": None\n",
    "}\n",
    "\n",
    "problems = [problemDict]\n",
    "\n",
    "# For debugging individual problems:\n",
    "if __name__ == \"__main__\":\n",
    "    def printResults(problemID = \"\", problem = None, opt_val = None):\n",
    "        print(problemID)\n",
    "        problem.solve(solver=\"SCS\", verbose=True, eps=1e-5)\n",
    "        print(\"\\tstatus: {}\".format(problem.status))\n",
    "        print(\"\\toptimal value: {}\".format(problem.value))\n",
    "        print(\"\\ttrue optimal value: {}\".format(opt_val))\n",
    "    printResults(**problems[0])\n",
    "\n"
   ]
  },
  {
   "cell_type": "code",
   "execution_count": 3,
   "metadata": {},
   "outputs": [
    {
     "data": {
      "text/plain": [
       "['CBC', 'MOSEK', 'ECOS_BB', 'SCS', 'ECOS', 'GUROBI', 'LS']"
      ]
     },
     "execution_count": 3,
     "metadata": {},
     "output_type": "execute_result"
    }
   ],
   "source": [
    "import cvxpy as cp\n",
    "cp.installed_solvers()\n"
   ]
  },
  {
   "cell_type": "code",
   "execution_count": null,
   "metadata": {
    "collapsed": true
   },
   "outputs": [],
   "source": []
  }
 ],
 "metadata": {
  "kernelspec": {
   "display_name": "Python 2",
   "language": "python",
   "name": "python2"
  },
  "language_info": {
   "codemirror_mode": {
    "name": "ipython",
    "version": 2
   },
   "file_extension": ".py",
   "mimetype": "text/x-python",
   "name": "python",
   "nbconvert_exporter": "python",
   "pygments_lexer": "ipython2",
   "version": "2.7.12"
  }
 },
 "nbformat": 4,
 "nbformat_minor": 2
}
