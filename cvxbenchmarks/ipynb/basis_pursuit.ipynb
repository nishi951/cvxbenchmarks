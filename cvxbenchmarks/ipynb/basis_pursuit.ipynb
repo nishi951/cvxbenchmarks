{
 "cells": [
  {
   "cell_type": "markdown",
   "metadata": {},
   "source": [
    "### Basis Pursuit\n",
    "\n",
    "Basis pursuit is a method for finding a sparse solution to a linear system. The most generic formulation is:\n",
    "\n",
    "\\begin{equation*}\n",
    "  \\begin{aligned}\n",
    "    &\\text{minimize} && \\|x\\|_1 \\\\\n",
    "    &\\text{subject to} && Ax = b\n",
    "  \\end{aligned}\n",
    "\\end{equation*}\n",
    "\n",
    "with variable $x \\in \\mathbb{R}^n$ and constants $A \\in \\mathbb{R}^{m \\times n}$ and $b \\in \\mathbb{R}^m$.\n",
    "\n",
    "We generate the problem by first generating a sparse solution $x_0$, a random wide matrix $A \\in \\mathbb{R}^{m \\times n}$ (where $m \\leq n$), and then forming $b = Ax_0$ to find the $b$ such that $Ax = b$ is guaranteed to have a sparse solution.\n",
    "\n",
    "Note that the solution is not guaranteed to be $x_0$. For instance, if $A = (1, 0)^T$ and $x_0 = (0, 1)$, then $b = 0$ and therefore the system $Ax = 0$ has the trivial solution $x = (0, 0)$, which clearly minimizes the $\\ell_1$ norm."
   ]
  },
  {
   "cell_type": "code",
   "execution_count": 1,
   "metadata": {},
   "outputs": [
    {
     "name": "stdout",
     "output_type": "stream",
     "text": [
      "basis_pursuit_0\n",
      "\tstatus: optimal\n",
      "\toptimal value: 15.636773527\n",
      "\ttrue optimal value: None\n"
     ]
    }
   ],
   "source": [
    "import cvxpy as cp\n",
    "import numpy as np\n",
    "import scipy as sp\n",
    "\n",
    "# setup\n",
    "\n",
    "problemID = \"basis_pursuit_0\"\n",
    "prob = None\n",
    "opt_val = None\n",
    "\n",
    "# Variable declarations\n",
    "\n",
    "import scipy.sparse as sps\n",
    "n = 300\n",
    "m = 100\n",
    "np.random.seed(0)\n",
    "\n",
    "A = np.random.rand(m, n)\n",
    "x0 = sps.rand(n, 1, 0.1)\n",
    "b = A*x0\n",
    "\n",
    "\n",
    "# Problem construction\n",
    "\n",
    "x = cp.Variable(n)\n",
    "prob = cp.Problem(cp.Minimize(cp.norm1(x)), [A*x == b])\n",
    "\n",
    "\n",
    "# Problem collection\n",
    "\n",
    "# Single problem collection\n",
    "problemDict = {\n",
    "    \"problemID\" : problemID,\n",
    "    \"problem\"   : prob,\n",
    "    \"opt_val\"   : opt_val\n",
    "}\n",
    "problems = [problemDict]\n",
    "\n",
    "\n",
    "\n",
    "# For debugging individual problems:\n",
    "if __name__ == \"__main__\":\n",
    "    def printResults(problemID = \"\", problem = None, opt_val = None):\n",
    "        print(problemID)\n",
    "        problem.solve()\n",
    "        print(\"\\tstatus: {}\".format(problem.status))\n",
    "        print(\"\\toptimal value: {}\".format(problem.value))\n",
    "        print(\"\\ttrue optimal value: {}\".format(opt_val))\n",
    "    printResults(**problems[0])\n",
    "\n",
    "\n"
   ]
  },
  {
   "cell_type": "code",
   "execution_count": null,
   "metadata": {
    "collapsed": true
   },
   "outputs": [],
   "source": []
  }
 ],
 "metadata": {
  "kernelspec": {
   "display_name": "Python 2",
   "language": "python",
   "name": "python2"
  },
  "language_info": {
   "codemirror_mode": {
    "name": "ipython",
    "version": 2
   },
   "file_extension": ".py",
   "mimetype": "text/x-python",
   "name": "python",
   "nbconvert_exporter": "python",
   "pygments_lexer": "ipython2",
   "version": "2.7.12"
  }
 },
 "nbformat": 4,
 "nbformat_minor": 2
}
