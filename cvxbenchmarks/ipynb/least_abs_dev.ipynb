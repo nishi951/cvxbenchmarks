{
 "cells": [
  {
   "cell_type": "markdown",
   "metadata": {},
   "source": [
    "### Least Absolute Deviation (L1 Norm Minimization)\n",
    "\n",
    "In regression the technique of least absolute deviation, (aka least absolute errors, least absolute residual, least absolute value, sum of absolute deviations,...) is a way of finding a finding the best parameter fit, where \"best\" is determined by the $\\ell_1$ norm:\n",
    "\n",
    "\\begin{equation}\n",
    "\\|x\\|_1 = \\sum_{i = 1}^n \\left| x_i \\right|\n",
    "\\end{equation}\n",
    "\n",
    "where $x$ is an $n$-vector. Given points $(a_i, b_i)$ where $a_i$ are vectors and $b_i$ are scalars, the least absolute deviation problem is:\n",
    "\n",
    "\\begin{equation*}\n",
    "  \\begin{aligned}\n",
    "    &\\text{minimize} && \\sum_{i = 1}^n \\left| a_i^Tx + v - b_i \\right| \\\\\n",
    "  \\end{aligned}\n",
    "\\end{equation*}\n",
    "with variables $x \\in \\mathbb{R}^n$ and $v \\in \\mathbb{R}$, and data $a_i \\in \\mathbb{R}^n, b_i \\in \\mathbb{R}$.\n",
    "\n",
    "$\\ell_1$ norm minimization is often used instead of least squares in cases when the data contains outliers because the absolute value is more robust (less sensitive) to outliers in the data."
   ]
  },
  {
   "cell_type": "code",
   "execution_count": 1,
   "metadata": {},
   "outputs": [
    {
     "name": "stdout",
     "output_type": "stream",
     "text": [
      "least_abs_dev_0\n",
      "\tstatus: optimal\n",
      "\toptimal value: 7928.13222569\n",
      "\ttrue optimal value: None\n"
     ]
    }
   ],
   "source": [
    "import cvxpy as cp\n",
    "import numpy as np\n",
    "import scipy as sp\n",
    "\n",
    "# setup\n",
    "\n",
    "problemID = \"least_abs_dev_0\"\n",
    "prob = None\n",
    "opt_val = None\n",
    "\n",
    "# Variable declarations\n",
    "\n",
    "import scipy.sparse as sps\n",
    "\n",
    "np.random.seed(0)\n",
    "m = 5000\n",
    "n = 200\n",
    "\n",
    "A = np.random.randn(m,n);\n",
    "A = A*sps.diags([1 / np.sqrt(np.sum(A**2, 0))], [0])\n",
    "b = A.dot(10*np.random.randn(n) + 5*np.random.randn(1))\n",
    "\n",
    "k = max(m//50, 1)\n",
    "idx = np.random.randint(0, m, k)\n",
    "b[idx] += 100*np.random.randn(k)\n",
    "\n",
    "\n",
    "# Problem construction\n",
    "\n",
    "x = cp.Variable(n)\n",
    "v = cp.Variable(1)\n",
    "prob = cp.Problem(cp.Minimize(cp.norm1(A*x + v*np.ones(m) - b)))\n",
    "\n",
    "\n",
    "# Problem collection\n",
    "\n",
    "# Single problem collection\n",
    "problemDict = {\n",
    "    \"problemID\" : problemID,\n",
    "    \"problem\"   : prob,\n",
    "    \"opt_val\"   : opt_val\n",
    "}\n",
    "problems = [problemDict]\n",
    "\n",
    "\n",
    "\n",
    "# For debugging individual problems:\n",
    "if __name__ == \"__main__\":\n",
    "    def printResults(problemID = \"\", problem = None, opt_val = None):\n",
    "        print(problemID)\n",
    "        problem.solve()\n",
    "        print(\"\\tstatus: {}\".format(problem.status))\n",
    "        print(\"\\toptimal value: {}\".format(problem.value))\n",
    "        print(\"\\ttrue optimal value: {}\".format(opt_val))\n",
    "    printResults(**problems[0])\n"
   ]
  },
  {
   "cell_type": "code",
   "execution_count": null,
   "metadata": {
    "collapsed": true
   },
   "outputs": [],
   "source": []
  }
 ],
 "metadata": {
  "kernelspec": {
   "display_name": "Python 2",
   "language": "python",
   "name": "python2"
  },
  "language_info": {
   "codemirror_mode": {
    "name": "ipython",
    "version": 2
   },
   "file_extension": ".py",
   "mimetype": "text/x-python",
   "name": "python",
   "nbconvert_exporter": "python",
   "pygments_lexer": "ipython2",
   "version": "2.7.12"
  }
 },
 "nbformat": 4,
 "nbformat_minor": 2
}
