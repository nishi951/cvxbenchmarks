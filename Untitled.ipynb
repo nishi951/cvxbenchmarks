{
 "cells": [
  {
   "cell_type": "code",
   "execution_count": 12,
   "metadata": {},
   "outputs": [
    {
     "name": "stdout",
     "output_type": "stream",
     "text": [
      "chebyshev_0\n",
      "\tstatus: optimal\n",
      "\toptimal value: 0.3259013412464839\n",
      "\ttrue optimal value: None\n"
     ]
    }
   ],
   "source": [
    "# This is automatically-generated code.\n",
    "\n",
    "# Uses the jinja2 library for templating.\n",
    "\n",
    "\n",
    "import cvxpy as cp\n",
    "import numpy as np\n",
    "import scipy as sp\n",
    "\n",
    "# problemID\n",
    "\n",
    "problemID = \"chebyshev_0\"\n",
    "\n",
    "\n",
    "# Variable declarations\n",
    "\n",
    "def normalized_data_matrix(m, n, mu):\n",
    "    if mu == 1:\n",
    "        # dense\n",
    "        A = np.random.randn(m, n)\n",
    "        A /= np.sqrt(np.sum(A**2, 0))\n",
    "    else:\n",
    "        # sparse\n",
    "        A = sp.rand(m, n, mu)\n",
    "        A.data = np.random.randn(A.nnz)\n",
    "        N = A.copy()\n",
    "        N.data = N.data**2\n",
    "        A = A*sp.diags([1 / np.sqrt(np.ravel(N.sum(axis=0)))], [0])\n",
    "\n",
    "    return A\n",
    "\n",
    "np.random.seed(0)\n",
    "m = 100\n",
    "n = 200\n",
    "k = 10\n",
    "A = [normalized_data_matrix(m,n,1) for i in range(k)]\n",
    "B = normalized_data_matrix(k,n,1)\n",
    "c = np.random.rand(k)\n",
    "\n",
    "\n",
    "# Problem construction\n",
    "\n",
    "x = cp.Variable(n)\n",
    "obj_list = [cp.pnorm(A[i]*x, 2) + cp.abs(B[i,:]*x - c[i]) for i in range(k)]\n",
    "f = cp.max_elemwise(obj_list)\n",
    "\n",
    "prob = cp.Problem(cp.Minimize(f))\n",
    "opt_val = None\n",
    "\n",
    "x2 = cp.Variable(n)\n",
    "obj_list2 = [cp.pnorm(A[i]*x2, 2) + cp.abs(B[i,:]*x2 - c[i]) for i in range(k)]\n",
    "f2 = cp.max_elemwise(obj_list)\n",
    "\n",
    "prob2 = cp.Problem(cp.Minimize(f2))\n",
    "# Problem collection\n",
    "\n",
    "problemDict = {\n",
    "    \"problemID\" : problemID,\n",
    "    \"problem\"   : prob,\n",
    "    \"opt_val\"   : opt_val\n",
    "}\n",
    "problems = [problemDict]\n",
    "\n",
    "\n",
    "\n",
    "# For debugging individual problems:\n",
    "if __name__ == \"__main__\":\n",
    "    def printResults(problemID = \"\", problem = None, opt_val = None):\n",
    "        print(problemID)\n",
    "        problem.solve()\n",
    "        print(\"\\tstatus:\", problem.status)\n",
    "        print(\"\\toptimal value:\", problem.value)\n",
    "        print(\"\\ttrue optimal value:\", opt_val)\n",
    "    printResults(**problems[0])"
   ]
  },
  {
   "cell_type": "code",
   "execution_count": 10,
   "metadata": {
    "collapsed": true
   },
   "outputs": [],
   "source": [
    "def testfn(**kwargs):\n",
    "#     print(kwargs[\"first\"])\n",
    "#     print(kwargs[\"second\"])\n",
    "    print(first)\n",
    "    pritn(second)"
   ]
  },
  {
   "cell_type": "code",
   "execution_count": 11,
   "metadata": {},
   "outputs": [
    {
     "ename": "NameError",
     "evalue": "name 'first' is not defined",
     "output_type": "error",
     "traceback": [
      "\u001b[0;31m---------------------------------------------------------------------------\u001b[0m",
      "\u001b[0;31mNameError\u001b[0m                                 Traceback (most recent call last)",
      "\u001b[0;32m<ipython-input-11-5e264a1991e4>\u001b[0m in \u001b[0;36m<module>\u001b[0;34m()\u001b[0m\n\u001b[0;32m----> 1\u001b[0;31m \u001b[0mtestfn\u001b[0m\u001b[0;34m(\u001b[0m\u001b[0;34m**\u001b[0m\u001b[0;34m{\u001b[0m\u001b[0;34m\"first\"\u001b[0m \u001b[0;34m:\u001b[0m \u001b[0;34m\"a\"\u001b[0m\u001b[0;34m,\u001b[0m \u001b[0;34m\"second\"\u001b[0m\u001b[0;34m:\u001b[0m \u001b[0;34m\"b\"\u001b[0m\u001b[0;34m,\u001b[0m \u001b[0;34m\"third\"\u001b[0m\u001b[0;34m:\u001b[0m \u001b[0;34m\"c\"\u001b[0m\u001b[0;34m}\u001b[0m\u001b[0;34m)\u001b[0m\u001b[0;34m\u001b[0m\u001b[0m\n\u001b[0m",
      "\u001b[0;32m<ipython-input-10-73ff2f32d42f>\u001b[0m in \u001b[0;36mtestfn\u001b[0;34m(**kwargs)\u001b[0m\n\u001b[1;32m      2\u001b[0m \u001b[0;31m#     print(kwargs[\"first\"])\u001b[0m\u001b[0;34m\u001b[0m\u001b[0;34m\u001b[0m\u001b[0m\n\u001b[1;32m      3\u001b[0m \u001b[0;31m#     print(kwargs[\"second\"])\u001b[0m\u001b[0;34m\u001b[0m\u001b[0;34m\u001b[0m\u001b[0m\n\u001b[0;32m----> 4\u001b[0;31m     \u001b[0mprint\u001b[0m\u001b[0;34m(\u001b[0m\u001b[0mfirst\u001b[0m\u001b[0;34m)\u001b[0m\u001b[0;34m\u001b[0m\u001b[0m\n\u001b[0m\u001b[1;32m      5\u001b[0m     \u001b[0mpritn\u001b[0m\u001b[0;34m(\u001b[0m\u001b[0msecond\u001b[0m\u001b[0;34m)\u001b[0m\u001b[0;34m\u001b[0m\u001b[0m\n",
      "\u001b[0;31mNameError\u001b[0m: name 'first' is not defined"
     ]
    }
   ],
   "source": [
    "testfn(**{\"first\" : \"a\", \"second\": \"b\", \"third\": \"c\"})"
   ]
  },
  {
   "cell_type": "code",
   "execution_count": 142,
   "metadata": {
    "collapsed": true
   },
   "outputs": [],
   "source": [
    "import time"
   ]
  },
  {
   "cell_type": "code",
   "execution_count": 58,
   "metadata": {},
   "outputs": [],
   "source": [
    "\n",
    "import shelve\n",
    "x = cp.Variable(n)\n",
    "obj_list = [cp.pnorm(A[i]*x, 2) + cp.abs(B[i,:]*x - c[i]) for i in range(k)]\n",
    "f = cp.max_elemwise(obj_list)\n",
    "prob = cp.Problem(cp.Minimize(f))\n",
    "opt_val = None\n",
    "d = shelve.open(\"test2.dat\", \"c\")\n",
    "d[\"prob\"] = prob\n",
    "d.close()"
   ]
  },
  {
   "cell_type": "code",
   "execution_count": 118,
   "metadata": {},
   "outputs": [],
   "source": [
    "import xxhash as xxhash\n",
    "import pickle"
   ]
  },
  {
   "cell_type": "code",
   "execution_count": 59,
   "metadata": {},
   "outputs": [
    {
     "data": {
      "text/plain": [
       "-9223372036580072914"
      ]
     },
     "execution_count": 59,
     "metadata": {},
     "output_type": "execute_result"
    }
   ],
   "source": [
    "d = shelve.open(\"test2.dat\", \"c\")\n",
    "prob2 = d[\"prob\"]\n",
    "hash(prob2)"
   ]
  },
  {
   "cell_type": "code",
   "execution_count": 195,
   "metadata": {},
   "outputs": [
    {
     "name": "stdout",
     "output_type": "stream",
     "text": [
      "True\n",
      "0.18467187881469727\n"
     ]
    }
   ],
   "source": [
    "start = time.time()\n",
    "print(xx.xxh64(str(prob)).hexdigest() == xx.xxh64(str(prob2)).hexdigest())\n",
    "print(time.time() - start)"
   ]
  },
  {
   "cell_type": "code",
   "execution_count": 227,
   "metadata": {},
   "outputs": [
    {
     "name": "stdout",
     "output_type": "stream",
     "text": [
      "True\n",
      "0.043646812438964844\n"
     ]
    }
   ],
   "source": [
    "start = time.time()\n",
    "print(hash(str(prob)) == hash(str(prob2)))\n",
    "print(time.time() - start)"
   ]
  },
  {
   "cell_type": "code",
   "execution_count": 179,
   "metadata": {},
   "outputs": [
    {
     "ename": "TypeError",
     "evalue": "object supporting the buffer API required",
     "output_type": "error",
     "traceback": [
      "\u001b[0;31m---------------------------------------------------------------------------\u001b[0m",
      "\u001b[0;31mTypeError\u001b[0m                                 Traceback (most recent call last)",
      "\u001b[0;32m<ipython-input-179-295d904716e7>\u001b[0m in \u001b[0;36m<module>\u001b[0;34m()\u001b[0m\n\u001b[1;32m      1\u001b[0m \u001b[0mstart\u001b[0m \u001b[0;34m=\u001b[0m \u001b[0mtime\u001b[0m\u001b[0;34m.\u001b[0m\u001b[0mtime\u001b[0m\u001b[0;34m(\u001b[0m\u001b[0;34m)\u001b[0m\u001b[0;34m\u001b[0m\u001b[0m\n\u001b[0;32m----> 2\u001b[0;31m \u001b[0mprint\u001b[0m\u001b[0;34m(\u001b[0m\u001b[0mhashlib\u001b[0m\u001b[0;34m.\u001b[0m\u001b[0msha256\u001b[0m\u001b[0;34m(\u001b[0m\u001b[0mprob\u001b[0m\u001b[0;34m)\u001b[0m\u001b[0;34m.\u001b[0m\u001b[0mdigest\u001b[0m \u001b[0;34m==\u001b[0m \u001b[0mstr\u001b[0m\u001b[0;34m(\u001b[0m\u001b[0mprob2\u001b[0m\u001b[0;34m)\u001b[0m\u001b[0;34m)\u001b[0m\u001b[0;34m\u001b[0m\u001b[0m\n\u001b[0m\u001b[1;32m      3\u001b[0m \u001b[0mprint\u001b[0m\u001b[0;34m(\u001b[0m\u001b[0mtime\u001b[0m\u001b[0;34m.\u001b[0m\u001b[0mtime\u001b[0m\u001b[0;34m(\u001b[0m\u001b[0;34m)\u001b[0m \u001b[0;34m-\u001b[0m \u001b[0mstart\u001b[0m\u001b[0;34m)\u001b[0m\u001b[0;34m\u001b[0m\u001b[0m\n",
      "\u001b[0;31mTypeError\u001b[0m: object supporting the buffer API required"
     ]
    }
   ],
   "source": [
    "start = time.time()\n",
    "print(hashlib.sha256(prob).digest == str(prob2))\n",
    "print(time.time() - start)"
   ]
  },
  {
   "cell_type": "code",
   "execution_count": 170,
   "metadata": {},
   "outputs": [],
   "source": [
    "import zlib\n",
    "import hashlib"
   ]
  },
  {
   "cell_type": "code",
   "execution_count": 234,
   "metadata": {},
   "outputs": [
    {
     "name": "stdout",
     "output_type": "stream",
     "text": [
      "True\n",
      "0.046751976013183594\n"
     ]
    }
   ],
   "source": [
    "start = time.time()\n",
    "print(hashlib.sha256((str(prob2).encode(\"utf-16\"))).hexdigest() == hashlib.sha256((str(prob).encode(\"utf-16\"))).hexdigest())\n",
    "print(time.time() - start)"
   ]
  },
  {
   "cell_type": "code",
   "execution_count": 239,
   "metadata": {},
   "outputs": [],
   "source": [
    "d[\"probhash\"] = hashlib.sha256((str(prob).encode(\"utf-16\"))).hexdigest()\n"
   ]
  },
  {
   "cell_type": "code",
   "execution_count": 241,
   "metadata": {},
   "outputs": [
    {
     "data": {
      "text/plain": [
       "str"
      ]
     },
     "execution_count": 241,
     "metadata": {},
     "output_type": "execute_result"
    }
   ],
   "source": [
    "type(d[\"probhash\"])"
   ]
  },
  {
   "cell_type": "code",
   "execution_count": 233,
   "metadata": {},
   "outputs": [],
   "source": [
    "np.set_printoptions(threshold = 100, precision = 4)"
   ]
  },
  {
   "cell_type": "code",
   "execution_count": 107,
   "metadata": {},
   "outputs": [
    {
     "data": {
      "text/plain": [
       "True"
      ]
     },
     "execution_count": 107,
     "metadata": {},
     "output_type": "execute_result"
    }
   ],
   "source": [
    "hash(str(prob)) == hash(str(prob2))"
   ]
  },
  {
   "cell_type": "code",
   "execution_count": 104,
   "metadata": {},
   "outputs": [],
   "source": [
    "with open(\"test.txt\", \"w\") as f:\n",
    "    f.write(str(prob).replace(\"\\n\", \"\").strip())"
   ]
  },
  {
   "cell_type": "code",
   "execution_count": 137,
   "metadata": {},
   "outputs": [
    {
     "name": "stdout",
     "output_type": "stream",
     "text": [
      "Add \"7\" to position 52\n",
      "Delete \"0\" from position 54\n",
      "Delete \"a\" from position 111\n",
      "Delete \"4\" from position 113\n",
      "Delete \"3\" from position 114\n",
      "Delete \"8\" from position 115\n",
      "Add \"6\" to position 116\n",
      "Add \"5\" to position 117\n",
      "Add \"c\" to position 118\n",
      "Add \"0\" to position 119\n",
      "Add \"3\" to position 3313\n",
      "Add \"3\" to position 3315\n",
      "Delete \"6\" from position 3316\n",
      "Delete \"2\" from position 3317\n",
      "Delete \"2\" from position 3357\n",
      "Delete \"6\" from position 3358\n",
      "Add \"2\" to position 3360\n",
      "Add \"4\" to position 3361\n",
      "Add \"3\" to position 6568\n",
      "Add \"3\" to position 6570\n",
      "Delete \"6\" from position 6571\n",
      "Delete \"2\" from position 6572\n",
      "Add \"3\" to position 6612\n",
      "Add \"5\" to position 6614\n",
      "Delete \"6\" from position 6615\n",
      "Delete \"4\" from position 6616\n",
      "Delete \"a\" from position 6685\n",
      "Delete \"3\" from position 6687\n",
      "Add \"6\" to position 6688\n",
      "Delete \"0\" from position 6690\n",
      "Add \"7\" to position 6691\n",
      "Add \"8\" to position 6692\n",
      "Add \"3\" to position 8733\n",
      "Add \"8\" to position 8735\n",
      "Delete \"6\" from position 8736\n",
      "Delete \"7\" from position 8737\n",
      "Add \"3\" to position 8777\n",
      "Add \"9\" to position 8779\n",
      "Delete \"6\" from position 8780\n",
      "Delete \"8\" from position 8781\n",
      "Add \"3\" to position 10835\n",
      "Add \"8\" to position 10837\n",
      "Delete \"6\" from position 10838\n",
      "Delete \"7\" from position 10839\n",
      "Delete \"2\" from position 10879\n",
      "Delete \"6\" from position 10880\n",
      "Delete \"9\" from position 10881\n",
      "Add \"3\" to position 10882\n",
      "Add \"3\" to position 10883\n",
      "Add \"0\" to position 10884\n",
      "Delete \"a\" from position 10953\n",
      "Delete \"2\" from position 10955\n",
      "Delete \"4\" from position 10956\n",
      "Add \"7\" to position 10957\n",
      "Add \"b\" to position 10958\n",
      "Add \"0\" to position 10959\n",
      "Delete \"2\" from position 13001\n",
      "Delete \"7\" from position 13002\n",
      "Delete \"2\" from position 13003\n",
      "Add \"3\" to position 13004\n",
      "Add \"3\" to position 13005\n",
      "Add \"3\" to position 13006\n",
      "Delete \"2\" from position 13046\n",
      "Delete \"7\" from position 13047\n",
      "Add \"3\" to position 13049\n",
      "Add \"4\" to position 13050\n",
      "Delete \"2\" from position 15104\n",
      "Delete \"7\" from position 15105\n",
      "Delete \"2\" from position 15106\n",
      "Add \"3\" to position 15107\n",
      "Add \"3\" to position 15108\n",
      "Add \"3\" to position 15109\n",
      "Delete \"2\" from position 15149\n",
      "Delete \"7\" from position 15150\n",
      "Delete \"4\" from position 15151\n",
      "Add \"3\" to position 15152\n",
      "Add \"3\" to position 15153\n",
      "Add \"5\" to position 15154\n",
      "Delete \"a\" from position 15223\n",
      "Delete \"2\" from position 15225\n",
      "Add \"7\" to position 15226\n",
      "Delete \"8\" from position 15228\n",
      "Add \"1\" to position 15229\n",
      "Add \"0\" to position 15230\n",
      "Delete \"2\" from position 17271\n",
      "Delete \"7\" from position 17272\n",
      "Delete \"7\" from position 17273\n",
      "Add \"3\" to position 17274\n",
      "Add \"3\" to position 17275\n",
      "Add \"8\" to position 17276\n",
      "Delete \"2\" from position 17316\n",
      "Delete \"7\" from position 17317\n",
      "Delete \"8\" from position 17318\n",
      "Add \"3\" to position 17319\n",
      "Add \"3\" to position 17320\n",
      "Add \"9\" to position 17321\n",
      "Delete \"2\" from position 19375\n",
      "Delete \"7\" from position 19376\n",
      "Delete \"7\" from position 19377\n",
      "Add \"3\" to position 19378\n",
      "Add \"3\" to position 19379\n",
      "Add \"8\" to position 19380\n",
      "Delete \"2\" from position 19420\n",
      "Delete \"7\" from position 19421\n",
      "Delete \"9\" from position 19422\n",
      "Add \"3\" to position 19423\n",
      "Add \"4\" to position 19424\n",
      "Add \"0\" to position 19425\n",
      "Delete \"a\" from position 19494\n",
      "Delete \"3\" from position 19496\n",
      "Delete \"2\" from position 19497\n",
      "Add \"7\" to position 19498\n",
      "Add \"e\" to position 19499\n",
      "Add \"f\" to position 19500\n",
      "Delete \"2\" from position 22695\n",
      "Delete \"8\" from position 22696\n",
      "Delete \"2\" from position 22697\n",
      "Add \"3\" to position 22698\n",
      "Add \"4\" to position 22699\n",
      "Add \"3\" to position 22700\n",
      "Delete \"2\" from position 22740\n",
      "Delete \"8\" from position 22741\n",
      "Add \"4\" to position 22743\n",
      "Add \"4\" to position 22744\n",
      "Delete \"2\" from position 25951\n",
      "Delete \"8\" from position 25952\n",
      "Delete \"2\" from position 25953\n",
      "Add \"3\" to position 25954\n",
      "Add \"4\" to position 25955\n",
      "Add \"3\" to position 25956\n",
      "Add \"3\" to position 25996\n",
      "Delete \"2\" from position 25997\n",
      "Delete \"8\" from position 25998\n",
      "Add \"5\" to position 26000\n",
      "Delete \"a\" from position 26069\n",
      "Delete \"1\" from position 26071\n",
      "Delete \"d\" from position 26072\n",
      "Delete \"0\" from position 26073\n",
      "Add \"7\" to position 26074\n",
      "Add \"b\" to position 26075\n",
      "Add \"a\" to position 26076\n",
      "Add \"8\" to position 26077\n",
      "Delete \"2\" from position 29271\n",
      "Add \"3\" to position 29272\n",
      "Add \"4\" to position 29273\n",
      "Delete \"7\" from position 29275\n",
      "Delete \"2\" from position 29315\n",
      "Delete \"8\" from position 29316\n",
      "Delete \"8\" from position 29317\n",
      "Add \"3\" to position 29318\n",
      "Add \"4\" to position 29319\n",
      "Add \"9\" to position 29320\n",
      "Delete \"2\" from position 32527\n",
      "Add \"3\" to position 32528\n",
      "Add \"4\" to position 32529\n",
      "Delete \"7\" from position 32531\n",
      "Delete \"2\" from position 32571\n",
      "Delete \"8\" from position 32572\n",
      "Delete \"9\" from position 32573\n",
      "Add \"3\" to position 32574\n",
      "Add \"5\" to position 32575\n",
      "Add \"0\" to position 32576\n",
      "Delete \"a\" from position 32645\n",
      "Delete \"0\" from position 32647\n",
      "Delete \"f\" from position 32648\n",
      "Delete \"0\" from position 32649\n",
      "Add \"7\" to position 32650\n",
      "Add \"c\" to position 32651\n",
      "Add \"1\" to position 32652\n",
      "Add \"8\" to position 32653\n",
      "Delete \"2\" from position 35847\n",
      "Delete \"9\" from position 35848\n",
      "Delete \"2\" from position 35849\n",
      "Add \"3\" to position 35850\n",
      "Add \"5\" to position 35851\n",
      "Add \"3\" to position 35852\n",
      "Delete \"2\" from position 35892\n",
      "Delete \"9\" from position 35893\n",
      "Add \"5\" to position 35895\n",
      "Add \"4\" to position 35896\n",
      "Delete \"2\" from position 39103\n",
      "Delete \"9\" from position 39104\n",
      "Delete \"2\" from position 39105\n",
      "Add \"3\" to position 39106\n",
      "Add \"5\" to position 39107\n",
      "Add \"3\" to position 39108\n",
      "Delete \"2\" from position 39148\n",
      "Delete \"9\" from position 39149\n",
      "Delete \"4\" from position 39150\n",
      "Add \"3\" to position 39151\n",
      "Add \"5\" to position 39152\n",
      "Add \"5\" to position 39153\n",
      "Delete \"a\" from position 39222\n",
      "Delete \"0\" from position 39224\n",
      "Delete \"8\" from position 39225\n",
      "Add \"7\" to position 39226\n",
      "Add \"a\" to position 39227\n",
      "Add \"9\" to position 39228\n",
      "Delete \"2\" from position 41270\n",
      "Delete \"9\" from position 41271\n",
      "Delete \"7\" from position 41272\n",
      "Add \"3\" to position 41273\n",
      "Add \"5\" to position 41274\n",
      "Add \"8\" to position 41275\n",
      "Delete \"2\" from position 41315\n",
      "Add \"3\" to position 41316\n",
      "Add \"5\" to position 41317\n",
      "Delete \"8\" from position 41319\n",
      "Delete \"2\" from position 43373\n",
      "Delete \"9\" from position 43374\n",
      "Delete \"7\" from position 43375\n",
      "Add \"3\" to position 43376\n",
      "Add \"5\" to position 43377\n",
      "Add \"8\" to position 43378\n",
      "Delete \"2\" from position 43418\n",
      "Delete \"9\" from position 43419\n",
      "Delete \"9\" from position 43420\n",
      "Add \"3\" to position 43421\n",
      "Add \"6\" to position 43422\n",
      "Add \"0\" to position 43423\n",
      "Delete \"2\" from position 43494\n",
      "Delete \"b\" from position 43495\n",
      "Delete \"0\" from position 43496\n",
      "Add \"a\" to position 43497\n",
      "Add \"5\" to position 43498\n",
      "Add \"8\" to position 43499\n",
      "Delete \"0\" from position 46694\n",
      "Delete \"2\" from position 46695\n",
      "Add \"6\" to position 46696\n",
      "Add \"3\" to position 46697\n",
      "Delete \"0\" from position 46738\n",
      "Delete \"3\" from position 46739\n",
      "Add \"6\" to position 46740\n",
      "Add \"4\" to position 46741\n",
      "Delete \"0\" from position 49949\n",
      "Delete \"2\" from position 49950\n",
      "Add \"6\" to position 49951\n",
      "Add \"3\" to position 49952\n",
      "Delete \"0\" from position 49993\n",
      "Delete \"4\" from position 49994\n",
      "Add \"6\" to position 49995\n",
      "Add \"5\" to position 49996\n",
      "Delete \"e\" from position 50067\n",
      "Delete \"4\" from position 50068\n",
      "Delete \"8\" from position 50069\n",
      "Add \"f\" to position 50070\n",
      "Add \"6\" to position 50071\n",
      "Add \"0\" to position 50072\n",
      "Delete \"0\" from position 52114\n",
      "Delete \"7\" from position 52115\n",
      "Add \"6\" to position 52116\n",
      "Add \"8\" to position 52117\n",
      "Delete \"0\" from position 52158\n",
      "Delete \"8\" from position 52159\n",
      "Add \"6\" to position 52160\n",
      "Add \"9\" to position 52161\n",
      "Delete \"0\" from position 54216\n",
      "Delete \"7\" from position 54217\n",
      "Add \"6\" to position 54218\n",
      "Add \"8\" to position 54219\n",
      "Add \"7\" to position 54260\n",
      "Delete \"9\" from position 54262\n",
      "Add \"3\" to position 54421\n",
      "Add \"1\" to position 54423\n",
      "Delete \"6\" from position 54424\n",
      "Delete \"0\" from position 54425\n",
      "Add \"3\" to position 54479\n",
      "Add \"3\" to position 54481\n",
      "Delete \"6\" from position 54482\n",
      "Delete \"2\" from position 54483\n",
      "Add \"7\" to position 54588\n",
      "Delete \"0\" from position 54590\n",
      "Delete \"1\" from position 54631\n",
      "Delete \"1\" from position 54632\n",
      "Add \"7\" to position 54633\n",
      "Add \"2\" to position 54634\n",
      "Add \"3\" to position 54793\n",
      "Delete \"5\" from position 54796\n",
      "Add \"3\" to position 54850\n",
      "Add \"8\" to position 54852\n",
      "Delete \"6\" from position 54853\n",
      "Delete \"7\" from position 54854\n",
      "Add \"7\" to position 54959\n",
      "Delete \"0\" from position 54961\n",
      "Delete \"1\" from position 55002\n",
      "Delete \"2\" from position 55003\n",
      "Add \"7\" to position 55004\n",
      "Add \"3\" to position 55005\n",
      "Delete \"2\" from position 55164\n",
      "Delete \"7\" from position 55165\n",
      "Delete \"0\" from position 55166\n",
      "Add \"3\" to position 55167\n",
      "Add \"3\" to position 55168\n",
      "Add \"1\" to position 55169\n",
      "Delete \"2\" from position 55223\n",
      "Delete \"7\" from position 55224\n",
      "Delete \"2\" from position 55225\n",
      "Add \"3\" to position 55226\n",
      "Add \"3\" to position 55227\n",
      "Add \"3\" to position 55228\n",
      "Add \"7\" to position 55333\n",
      "Delete \"0\" from position 55335\n",
      "Delete \"1\" from position 55376\n",
      "Delete \"3\" from position 55377\n",
      "Add \"7\" to position 55378\n",
      "Add \"4\" to position 55379\n",
      "Delete \"2\" from position 55538\n",
      "Delete \"7\" from position 55539\n",
      "Delete \"5\" from position 55540\n",
      "Add \"3\" to position 55541\n",
      "Add \"3\" to position 55542\n",
      "Add \"6\" to position 55543\n",
      "Delete \"2\" from position 55597\n",
      "Delete \"7\" from position 55598\n",
      "Delete \"7\" from position 55599\n",
      "Add \"3\" to position 55600\n",
      "Add \"3\" to position 55601\n",
      "Add \"8\" to position 55602\n",
      "Add \"7\" to position 55707\n",
      "Delete \"0\" from position 55709\n",
      "Delete \"1\" from position 55750\n",
      "Delete \"4\" from position 55751\n",
      "Add \"7\" to position 55752\n",
      "Add \"5\" to position 55753\n",
      "Delete \"2\" from position 55912\n",
      "Delete \"8\" from position 55913\n",
      "Delete \"0\" from position 55914\n",
      "Add \"3\" to position 55915\n",
      "Add \"4\" to position 55916\n",
      "Add \"1\" to position 55917\n",
      "Delete \"2\" from position 55971\n",
      "Delete \"8\" from position 55972\n",
      "Delete \"2\" from position 55973\n",
      "Add \"3\" to position 55974\n",
      "Add \"4\" to position 55975\n",
      "Add \"3\" to position 55976\n",
      "Add \"7\" to position 56081\n",
      "Delete \"0\" from position 56083\n",
      "Delete \"1\" from position 56124\n",
      "Delete \"5\" from position 56125\n",
      "Add \"7\" to position 56126\n",
      "Add \"6\" to position 56127\n",
      "Delete \"2\" from position 56286\n",
      "Delete \"8\" from position 56287\n",
      "Delete \"5\" from position 56288\n",
      "Add \"3\" to position 56289\n",
      "Add \"4\" to position 56290\n",
      "Add \"6\" to position 56291\n",
      "Delete \"2\" from position 56345\n",
      "Add \"3\" to position 56346\n",
      "Add \"4\" to position 56347\n",
      "Delete \"7\" from position 56349\n",
      "Add \"7\" to position 56454\n",
      "Delete \"0\" from position 56456\n",
      "Delete \"1\" from position 56497\n",
      "Delete \"6\" from position 56498\n",
      "Add \"7\" to position 56499\n",
      "Add \"7\" to position 56500\n",
      "Delete \"2\" from position 56659\n",
      "Delete \"9\" from position 56660\n",
      "Delete \"0\" from position 56661\n",
      "Add \"3\" to position 56662\n",
      "Add \"5\" to position 56663\n",
      "Add \"1\" to position 56664\n",
      "Delete \"2\" from position 56718\n",
      "Delete \"9\" from position 56719\n",
      "Delete \"2\" from position 56720\n",
      "Add \"3\" to position 56721\n",
      "Add \"5\" to position 56722\n",
      "Add \"3\" to position 56723\n",
      "Add \"7\" to position 56828\n",
      "Delete \"0\" from position 56830\n",
      "Delete \"1\" from position 56871\n",
      "Add \"8\" to position 56873\n",
      "Add \"3\" to position 57032\n",
      "Delete \"2\" from position 57033\n",
      "Delete \"9\" from position 57034\n",
      "Add \"6\" to position 57036\n",
      "Delete \"2\" from position 57090\n",
      "Delete \"9\" from position 57091\n",
      "Delete \"7\" from position 57092\n",
      "Add \"3\" to position 57093\n",
      "Add \"5\" to position 57094\n",
      "Add \"8\" to position 57095\n",
      "Add \"7\" to position 57200\n",
      "Delete \"0\" from position 57202\n",
      "Delete \"1\" from position 57243\n",
      "Delete \"8\" from position 57244\n",
      "Add \"7\" to position 57245\n",
      "Add \"9\" to position 57246\n",
      "Delete \"0\" from position 57406\n",
      "Delete \"0\" from position 57407\n",
      "Add \"6\" to position 57408\n",
      "Add \"1\" to position 57409\n",
      "Delete \"0\" from position 57464\n",
      "Delete \"2\" from position 57465\n",
      "Add \"6\" to position 57466\n",
      "Add \"3\" to position 57467\n",
      "Add \"7\" to position 57572\n",
      "Delete \"0\" from position 57574\n",
      "Delete \"1\" from position 57615\n",
      "Delete \"9\" from position 57616\n",
      "Add \"8\" to position 57617\n",
      "Add \"0\" to position 57618\n",
      "Delete \"0\" from position 57778\n",
      "Delete \"5\" from position 57779\n",
      "Add \"6\" to position 57780\n",
      "Add \"6\" to position 57781\n",
      "Delete \"0\" from position 57836\n",
      "Delete \"7\" from position 57837\n",
      "Add \"6\" to position 57838\n",
      "Add \"8\" to position 57839\n",
      "Add \"7\" to position 57944\n",
      "Delete \"0\" from position 57946\n",
      "Delete \"2\" from position 57987\n",
      "Delete \"0\" from position 57988\n",
      "Add \"8\" to position 57989\n",
      "Add \"1\" to position 57990\n"
     ]
    }
   ],
   "source": [
    "for i,s in enumerate(difflib.ndiff(str(prob.canonicalize()), str(prob2.canonicalize()))):\n",
    "    if s[0]==' ': continue\n",
    "    elif s[0]=='-':\n",
    "        print(u'Delete \"{}\" from position {}'.format(s[-1],i))\n",
    "    elif s[0]=='+':\n",
    "        print(u'Add \"{}\" to position {}'.format(s[-1],i))    \n"
   ]
  },
  {
   "cell_type": "code",
   "execution_count": 135,
   "metadata": {},
   "outputs": [
    {
     "data": {
      "text/plain": [
       "0.3259013412464839"
      ]
     },
     "execution_count": 135,
     "metadata": {},
     "output_type": "execute_result"
    }
   ],
   "source": [
    "prob2.solve()"
   ]
  },
  {
   "cell_type": "code",
   "execution_count": 136,
   "metadata": {},
   "outputs": [
    {
     "data": {
      "text/plain": [
       "0.3259013412464839"
      ]
     },
     "execution_count": 136,
     "metadata": {},
     "output_type": "execute_result"
    }
   ],
   "source": [
    "prob.solve()"
   ]
  },
  {
   "cell_type": "code",
   "execution_count": 236,
   "metadata": {},
   "outputs": [],
   "source": [
    "tup = str((\"a\", \"b\"))"
   ]
  },
  {
   "cell_type": "code",
   "execution_count": 237,
   "metadata": {},
   "outputs": [
    {
     "data": {
      "text/plain": [
       "\"('a', 'b')\""
      ]
     },
     "execution_count": 237,
     "metadata": {},
     "output_type": "execute_result"
    }
   ],
   "source": [
    "tup"
   ]
  },
  {
   "cell_type": "code",
   "execution_count": 244,
   "metadata": {},
   "outputs": [
    {
     "data": {
      "text/plain": [
       "True"
      ]
     },
     "execution_count": 244,
     "metadata": {},
     "output_type": "execute_result"
    }
   ],
   "source": [
    "\"prob\" in d"
   ]
  },
  {
   "cell_type": "code",
   "execution_count": 247,
   "metadata": {},
   "outputs": [],
   "source": [
    "import pandas as pd\n",
    "ser  =pd.Series([1,2, 3], index = [\"A\", \"B\", \"C\"])"
   ]
  },
  {
   "cell_type": "code",
   "execution_count": 248,
   "metadata": {
    "collapsed": true
   },
   "outputs": [],
   "source": [
    "ser.loc[\"D\"] = [13, 4]"
   ]
  },
  {
   "cell_type": "code",
   "execution_count": 249,
   "metadata": {},
   "outputs": [
    {
     "data": {
      "text/plain": [
       "A          1\n",
       "B          2\n",
       "C          3\n",
       "D    [13, 4]\n",
       "dtype: object"
      ]
     },
     "execution_count": 249,
     "metadata": {},
     "output_type": "execute_result"
    }
   ],
   "source": [
    "ser"
   ]
  },
  {
   "cell_type": "code",
   "execution_count": null,
   "metadata": {
    "collapsed": true
   },
   "outputs": [],
   "source": []
  }
 ],
 "metadata": {
  "kernelspec": {
   "display_name": "Python 3",
   "language": "python",
   "name": "python3"
  },
  "language_info": {
   "codemirror_mode": {
    "name": "ipython",
    "version": 3
   },
   "file_extension": ".py",
   "mimetype": "text/x-python",
   "name": "python",
   "nbconvert_exporter": "python",
   "pygments_lexer": "ipython3",
   "version": "3.6.1"
  }
 },
 "nbformat": 4,
 "nbformat_minor": 2
}
